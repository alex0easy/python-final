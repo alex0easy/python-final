{
 "cells": [
  {
   "cell_type": "markdown",
   "metadata": {},
   "source": [
    "# Step 1. Import Libraries"
   ]
  },
  {
   "cell_type": "code",
   "execution_count": 74,
   "metadata": {},
   "outputs": [],
   "source": [
    "import pandas as pd\n",
    "import geopandas as gpd\n",
    "import numpy as np\n",
    "import cartopy.crs as ccrs\n",
    "from matplotlib import pyplot as plt\n",
    "%matplotlib inline\n",
    "import altair as alt\n",
    "import hvplot.pandas"
   ]
  },
  {
   "cell_type": "code",
   "execution_count": 86,
   "metadata": {},
   "outputs": [],
   "source": [
    "from geopandas import GeoDataFrame "
   ]
  },
  {
   "cell_type": "markdown",
   "metadata": {},
   "source": [
    "# Step 2. Get Data"
   ]
  },
  {
   "cell_type": "markdown",
   "metadata": {},
   "source": [
    "## Step 2.1 Neighborhood Boundaries "
   ]
  },
  {
   "cell_type": "code",
   "execution_count": 16,
   "metadata": {},
   "outputs": [],
   "source": [
    "# load the Zillow data from GitHub\n",
    "neighborhood = gpd.read_file(\"C:/Users/laqan/Downloads/620/final/data/Neighborhood Tabulation Areas.geojson\")\n",
    "\n",
    "# convert the CRS to Web Mercator\n",
    "neighborhood  = neighborhood .to_crs(epsg=3857)"
   ]
  },
  {
   "cell_type": "markdown",
   "metadata": {},
   "source": [
    "## Step 2.2 Census Data "
   ]
  },
  {
   "cell_type": "code",
   "execution_count": 39,
   "metadata": {},
   "outputs": [],
   "source": [
    "census_tract = gpd.read_file(\"C:/Users/laqan/Downloads/620/final/data/2010 Census Tracts.geojson\")"
   ]
  },
  {
   "cell_type": "code",
   "execution_count": 62,
   "metadata": {},
   "outputs": [],
   "source": [
    "census_data = pd.read_csv(\"C:/Users/laqan/Downloads/620/final/data/census_data.csv\")"
   ]
  },
  {
   "cell_type": "code",
   "execution_count": 63,
   "metadata": {},
   "outputs": [],
   "source": [
    "census_data['boro_ct2010']=census_data['boro_ct2010'].astype(str)"
   ]
  },
  {
   "cell_type": "code",
   "execution_count": 90,
   "metadata": {},
   "outputs": [],
   "source": [
    "joined_data = census_tract.merge(census_data, on='boro_ct2010')"
   ]
  },
  {
   "cell_type": "markdown",
   "metadata": {},
   "source": [
    "## Step 2.3 Join Data "
   ]
  },
  {
   "cell_type": "code",
   "execution_count": 93,
   "metadata": {},
   "outputs": [],
   "source": [
    "joined_data = joined_data.to_crs(epsg=3857)"
   ]
  },
  {
   "cell_type": "code",
   "execution_count": 97,
   "metadata": {},
   "outputs": [],
   "source": [
    "# perform the spatial join\n",
    "gdata = gpd.sjoin(joined_data, neighborhood, op='intersects', how='left')"
   ]
  },
  {
   "cell_type": "code",
   "execution_count": 107,
   "metadata": {},
   "outputs": [],
   "source": [
    "gdata_group = gdata.groupby(['ntaname_right']).sum()"
   ]
  },
  {
   "cell_type": "code",
   "execution_count": 110,
   "metadata": {},
   "outputs": [],
   "source": [
    "gdata_group =gdata_group.add_suffix('_sum').reset_index()"
   ]
  },
  {
   "cell_type": "code",
   "execution_count": 113,
   "metadata": {},
   "outputs": [],
   "source": [
    "gdata_group = gdata_group[['ntaname_right','B01001_001E_sum', 'ukrainian_sum', 'turkish_sum', 'romanian_sum', 'russian_sum', 'polish_sum', 'german_sum', 'italian_sum', 'french_sum', 'arabian_sum']]"
   ]
  },
  {
   "cell_type": "code",
   "execution_count": 115,
   "metadata": {},
   "outputs": [
    {
     "name": "stderr",
     "output_type": "stream",
     "text": [
      "D:\\Anaconda\\envs\\musa-620\\lib\\site-packages\\pandas\\core\\frame.py:4025: SettingWithCopyWarning: \n",
      "A value is trying to be set on a copy of a slice from a DataFrame\n",
      "\n",
      "See the caveats in the documentation: http://pandas.pydata.org/pandas-docs/stable/indexing.html#indexing-view-versus-copy\n",
      "  return super(DataFrame, self).rename(**kwargs)\n"
     ]
    }
   ],
   "source": [
    "gdata_group.rename(columns={'ntaname_right':'ntaname'}, inplace=True)"
   ]
  },
  {
   "cell_type": "code",
   "execution_count": 117,
   "metadata": {},
   "outputs": [],
   "source": [
    "neighborhood_data = neighborhood.merge(gdata_group, on='ntaname')"
   ]
  },
  {
   "cell_type": "markdown",
   "metadata": {},
   "source": [
    "# Step 3. Plot "
   ]
  },
  {
   "cell_type": "code",
   "execution_count": 165,
   "metadata": {},
   "outputs": [],
   "source": [
    "import folium\n",
    "import osmnx as ox\n",
    "import networkx as nx\n",
    "import matplotlib.colors as mcolors\n",
    "from folium.plugins import HeatMap\n",
    "from IPython.display import IFrame\n",
    "import requests\n",
    "import json\n",
    "import matplotlib.colors as mcolors\n",
    "from xml.etree import ElementTree\n",
    "from folium.plugins import MarkerCluster\n",
    "from folium.map import *"
   ]
  },
  {
   "cell_type": "markdown",
   "metadata": {},
   "source": [
    "## Step 3.1 Normalize the data column to 0 to 1 "
   ]
  },
  {
   "cell_type": "code",
   "execution_count": 153,
   "metadata": {},
   "outputs": [],
   "source": [
    "neighborhood_data['pct_russian'] = neighborhood_data['russian_sum'] / neighborhood_data['B01001_001E_sum']\n",
    "neighborhood_data['pct_ukrainian'] = neighborhood_data['ukrainian_sum'] / neighborhood_data['B01001_001E_sum']\n",
    "neighborhood_data['pct_turkish'] = neighborhood_data['turkish_sum'] / neighborhood_data['B01001_001E_sum']\n",
    "neighborhood_data['pct_romanian'] = neighborhood_data['romanian_sum'] / neighborhood_data['B01001_001E_sum']\n",
    "neighborhood_data['pct_polish'] = neighborhood_data['polish_sum'] / neighborhood_data['B01001_001E_sum']\n",
    "neighborhood_data['pct_german'] = neighborhood_data['german_sum'] / neighborhood_data['B01001_001E_sum']\n",
    "neighborhood_data['pct_italian'] = neighborhood_data['italian_sum'] / neighborhood_data['B01001_001E_sum']\n",
    "neighborhood_data['pct_french'] = neighborhood_data['french_sum'] / neighborhood_data['B01001_001E_sum']\n",
    "neighborhood_data['pct_arabian'] = neighborhood_data['arabian_sum'] / neighborhood_data['B01001_001E_sum']"
   ]
  },
  {
   "cell_type": "code",
   "execution_count": 155,
   "metadata": {},
   "outputs": [],
   "source": [
    "x = neighborhood_data['pct_russian']\n",
    "neighborhood_data['pct_russian_normalized'] = (x - x.min()) / (x.max() - x.min())\n",
    "\n",
    "x = neighborhood_data['pct_ukrainian']\n",
    "neighborhood_data['pct_ukrainian_normalized'] = (x - x.min()) / (x.max() - x.min())\n",
    "\n",
    "x = neighborhood_data['pct_turkish']\n",
    "neighborhood_data['pct_turkish_normalized'] = (x - x.min()) / (x.max() - x.min())\n",
    "\n",
    "x = neighborhood_data['pct_romanian']\n",
    "neighborhood_data['pct_romanian_normalized'] = (x - x.min()) / (x.max() - x.min())\n",
    "\n",
    "x = neighborhood_data['pct_polish']\n",
    "neighborhood_data['pct_polish_normalized'] = (x - x.min()) / (x.max() - x.min())\n",
    "\n",
    "x = neighborhood_data['pct_german']\n",
    "neighborhood_data['pct_german_normalized'] = (x - x.min()) / (x.max() - x.min())\n",
    "\n",
    "x = neighborhood_data['pct_italian']\n",
    "neighborhood_data['pct_italian_normalized'] = (x - x.min()) / (x.max() - x.min())\n",
    "\n",
    "x = neighborhood_data['pct_french']\n",
    "neighborhood_data['pct_french_normalized'] = (x - x.min()) / (x.max() - x.min())\n",
    "\n",
    "x = neighborhood_data['pct_arabian']\n",
    "neighborhood_data['pct_arabian_normalized'] = (x - x.min()) / (x.max() - x.min())\n"
   ]
  },
  {
   "cell_type": "code",
   "execution_count": 157,
   "metadata": {},
   "outputs": [],
   "source": [
    "# use a red-purple colorbrewer color scheme\n",
    "def get_highlighted_style(feature):\n",
    "    return {'weight': 2, 'color': 'red'}\n",
    "\n",
    "colorbar = plt.get_cmap('RdPu')\n",
    "\n",
    "def get_style_russian(feature):\n",
    "    value = feature['properties']['pct_russian_normalized']\n",
    "    rgb_color = colorbar(value)\n",
    "    color = mcolors.rgb2hex(rgb_color)\n",
    "    return {'weight': 0.25, 'color': color, 'fillColor': color, \"fillOpacity\": 0.75}\n",
    "\n",
    "def get_style_ukrainian(feature):\n",
    "    value = feature['properties']['pct_ukrainian_normalized']\n",
    "    rgb_color = colorbar(value)\n",
    "    color = mcolors.rgb2hex(rgb_color)\n",
    "    return {'weight': 0.25, 'color': color, 'fillColor': color, \"fillOpacity\": 0.75}\n",
    "\n",
    "def get_style_romanian(feature):\n",
    "    value = feature['properties']['pct_romanian_normalized']\n",
    "    rgb_color = colorbar(value)\n",
    "    color = mcolors.rgb2hex(rgb_color)\n",
    "    return {'weight': 0.25, 'color': color, 'fillColor': color, \"fillOpacity\": 0.75}\n",
    "\n",
    "def get_style_polish(feature):\n",
    "    value = feature['properties']['pct_polish_normalized']\n",
    "    rgb_color = colorbar(value)\n",
    "    color = mcolors.rgb2hex(rgb_color)\n",
    "    return {'weight': 0.25, 'color': color, 'fillColor': color, \"fillOpacity\": 0.75}\n",
    "\n",
    "def get_style_german(feature):\n",
    "    value = feature['properties']['pct_german_normalized']\n",
    "    rgb_color = colorbar(value)\n",
    "    color = mcolors.rgb2hex(rgb_color)\n",
    "    return {'weight': 0.25, 'color': color, 'fillColor': color, \"fillOpacity\": 0.75}\n",
    "\n",
    "def get_style_italian(feature):\n",
    "    value = feature['properties']['pct_italian_normalized']\n",
    "    rgb_color = colorbar(value)\n",
    "    color = mcolors.rgb2hex(rgb_color)\n",
    "    return {'weight': 0.25, 'color': color, 'fillColor': color, \"fillOpacity\": 0.75}\n",
    "\n",
    "def get_style_french(feature):\n",
    "    value = feature['properties']['pct_french_normalized']\n",
    "    rgb_color = colorbar(value)\n",
    "    color = mcolors.rgb2hex(rgb_color)\n",
    "    return {'weight': 0.25, 'color': color, 'fillColor': color, \"fillOpacity\": 0.75}\n",
    "\n",
    "def get_style_arabian(feature):\n",
    "    value = feature['properties']['pct_arabian_normalized']\n",
    "    rgb_color = colorbar(value)\n",
    "    color = mcolors.rgb2hex(rgb_color)\n",
    "    return {'weight': 0.25, 'color': color, 'fillColor': color, \"fillOpacity\": 0.75}"
   ]
  },
  {
   "cell_type": "code",
   "execution_count": 166,
   "metadata": {},
   "outputs": [
    {
     "ename": "TypeError",
     "evalue": "add_children() got an unexpected keyword argument 'style_function'",
     "output_type": "error",
     "traceback": [
      "\u001b[1;31m---------------------------------------------------------------------------\u001b[0m",
      "\u001b[1;31mTypeError\u001b[0m                                 Traceback (most recent call last)",
      "\u001b[1;32m<ipython-input-166-fe2a17558c06>\u001b[0m in \u001b[0;36m<module>\u001b[1;34m\u001b[0m\n\u001b[0;32m      9\u001b[0m     \u001b[0mstyle_function\u001b[0m\u001b[1;33m=\u001b[0m\u001b[0mget_style_russian\u001b[0m\u001b[1;33m,\u001b[0m\u001b[1;33m\u001b[0m\u001b[1;33m\u001b[0m\u001b[0m\n\u001b[0;32m     10\u001b[0m     \u001b[0mhighlight_function\u001b[0m\u001b[1;33m=\u001b[0m\u001b[0mget_highlighted_style\u001b[0m\u001b[1;33m,\u001b[0m\u001b[1;33m\u001b[0m\u001b[1;33m\u001b[0m\u001b[0m\n\u001b[1;32m---> 11\u001b[1;33m     \u001b[0mtooltip\u001b[0m\u001b[1;33m=\u001b[0m\u001b[0mfolium\u001b[0m\u001b[1;33m.\u001b[0m\u001b[0mGeoJsonTooltip\u001b[0m\u001b[1;33m(\u001b[0m\u001b[1;33m[\u001b[0m\u001b[1;34m'ntaname'\u001b[0m\u001b[1;33m,\u001b[0m \u001b[1;34m'pct_russian'\u001b[0m\u001b[1;33m]\u001b[0m\u001b[1;33m)\u001b[0m\u001b[1;33m\u001b[0m\u001b[1;33m\u001b[0m\u001b[0m\n\u001b[0m\u001b[0;32m     12\u001b[0m )\n\u001b[0;32m     13\u001b[0m \u001b[0mmap\u001b[0m\u001b[1;33m.\u001b[0m\u001b[0madd_children\u001b[0m\u001b[1;33m(\u001b[0m\u001b[0mrussian\u001b[0m\u001b[1;33m)\u001b[0m\u001b[1;33m\u001b[0m\u001b[1;33m\u001b[0m\u001b[0m\n",
      "\u001b[1;31mTypeError\u001b[0m: add_children() got an unexpected keyword argument 'style_function'"
     ]
    }
   ],
   "source": [
    "# initialize the map\n",
    "m = folium.Map(location=[40.733189, -73.932258], zoom_start=11, tiles='cartodbpositron')\n",
    "\n",
    "# add the GeoJson to the map\n",
    "folium.GeoJson(\n",
    "    neighborhood_data,\n",
    "    name='russian',\n",
    "    style_function=get_style_russian,\n",
    "    highlight_function=get_highlighted_style,\n",
    "    tooltip=folium.GeoJsonTooltip(['ntaname', 'pct_russian'])\n",
    ").add_to(m)\n",
    "\n",
    "folium.GeoJson(\n",
    "    neighborhood_data,\n",
    "    name='ukrainian',\n",
    "    style_function=get_style_ukrainian,\n",
    "    highlight_function=get_highlighted_style,\n",
    "    tooltip=folium.GeoJsonTooltip(['ntaname', 'pct_ukrainian'])\n",
    ").add_to(m)\n",
    "\n",
    "folium.GeoJson(\n",
    "    neighborhood_data,\n",
    "    name='romanian',\n",
    "    style_function=get_style_romanian,\n",
    "    highlight_function=get_highlighted_style,\n",
    "    tooltip=folium.GeoJsonTooltip(['ntaname', 'pct_romanian'])\n",
    ").add_to(m)\n",
    "\n",
    "folium.GeoJson(\n",
    "    neighborhood_data,\n",
    "    name='polish',\n",
    "    style_function=get_style_polish,\n",
    "    highlight_function=get_highlighted_style,\n",
    "    tooltip=folium.GeoJsonTooltip(['ntaname', 'pct_polish'])\n",
    ").add_to(m)\n",
    "\n",
    "folium.GeoJson(\n",
    "    neighborhood_data,\n",
    "    name='german',\n",
    "    style_function=get_style_german,\n",
    "    highlight_function=get_highlighted_style,\n",
    "    tooltip=folium.GeoJsonTooltip(['ntaname', 'pct_german'])\n",
    ").add_to(m)\n",
    "\n",
    "folium.GeoJson(\n",
    "    neighborhood_data,\n",
    "    name='italian',\n",
    "    style_function=get_style_italian,\n",
    "    highlight_function=get_highlighted_style,\n",
    "    tooltip=folium.GeoJsonTooltip(['ntaname', 'pct_italian'])\n",
    ").add_to(m)\n",
    "\n",
    "folium.GeoJson(\n",
    "    neighborhood_data,\n",
    "    name='french',\n",
    "    style_function=get_style_french,\n",
    "    highlight_function=get_highlighted_style,\n",
    "    tooltip=folium.GeoJsonTooltip(['ntaname', 'pct_french'])\n",
    ").add_to(m)\n",
    "\n",
    "folium.GeoJson(\n",
    "    neighborhood_data,\n",
    "    name='arabian',\n",
    "    style_function=get_style_arabian,\n",
    "    highlight_function=get_highlighted_style,\n",
    "    tooltip=folium.GeoJsonTooltip(['ntaname', 'pct_arabian'])\n",
    ").add_to(m)\n",
    "\n",
    "\n",
    "folium.LayerControl().add_to(m)\n",
    "\n",
    "# avoid a rendering bug by saving as HTML and re-loading\n",
    "m.save('D:/map.html')"
   ]
  },
  {
   "cell_type": "code",
   "execution_count": null,
   "metadata": {},
   "outputs": [],
   "source": []
  }
 ],
 "metadata": {
  "kernelspec": {
   "display_name": "Python 3",
   "language": "python",
   "name": "python3"
  },
  "language_info": {
   "codemirror_mode": {
    "name": "ipython",
    "version": 3
   },
   "file_extension": ".py",
   "mimetype": "text/x-python",
   "name": "python",
   "nbconvert_exporter": "python",
   "pygments_lexer": "ipython3",
   "version": "3.6.8"
  }
 },
 "nbformat": 4,
 "nbformat_minor": 2
}
