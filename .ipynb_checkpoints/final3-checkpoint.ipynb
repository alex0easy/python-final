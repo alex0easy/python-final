{
 "cells": [
  {
   "cell_type": "markdown",
   "metadata": {},
   "source": [
    "# Step 1. Import Libraries"
   ]
  },
  {
   "cell_type": "code",
   "execution_count": 4,
   "metadata": {},
   "outputs": [],
   "source": [
    "import pandas as pd\n",
    "import geopandas as gpd\n",
    "import numpy as np\n",
    "import cartopy.crs as ccrs\n",
    "import altair as alt\n",
    "import hvplot.pandas\n",
    "from matplotlib import pyplot as plt"
   ]
  },
  {
   "cell_type": "code",
   "execution_count": 5,
   "metadata": {},
   "outputs": [],
   "source": [
    "import requests\n",
    "import json"
   ]
  },
  {
   "cell_type": "code",
   "execution_count": 6,
   "metadata": {},
   "outputs": [],
   "source": [
    "KEY = \"VKa7NurtzgHyEa7DkxJs33QuHFkHOE8C_56ePSwQYK8-exphAolXsNlN1e8oylmnPQdZ65cffx5a0JW5tQd9uIXyZ0st5sokIBS6sMtc8nAtM8oFNBvYin-S4cPNXHYx\"\n",
    "headers = {'Authorization' : 'Bearer %s' % KEY}"
   ]
  },
  {
   "cell_type": "code",
   "execution_count": 7,
   "metadata": {},
   "outputs": [],
   "source": [
    "from geopandas import GeoDataFrame "
   ]
  },
  {
   "cell_type": "markdown",
   "metadata": {},
   "source": [
    "# Step 2. Get Data"
   ]
  },
  {
   "cell_type": "markdown",
   "metadata": {},
   "source": [
    "## Step 2.1 Neighborhood Boundaries "
   ]
  },
  {
   "cell_type": "code",
   "execution_count": 8,
   "metadata": {},
   "outputs": [],
   "source": [
    "# load the Zillow data from GitHub\n",
    "neighborhood = gpd.read_file(\"./data/Neighborhood Tabulation Areas.geojson\")\n",
    "\n",
    "# convert the CRS to Web Mercator\n",
    "neighborhood  = neighborhood .to_crs(epsg=3857)"
   ]
  },
  {
   "cell_type": "markdown",
   "metadata": {},
   "source": [
    "## Step 2.2 Census Data "
   ]
  },
  {
   "cell_type": "code",
   "execution_count": 9,
   "metadata": {},
   "outputs": [],
   "source": [
    "census_tract = gpd.read_file(\"./data/2010 Census Tracts.geojson\")"
   ]
  },
  {
   "cell_type": "code",
   "execution_count": 10,
   "metadata": {},
   "outputs": [],
   "source": [
    "census_data = pd.read_csv(\"./data/census_data.csv\")"
   ]
  },
  {
   "cell_type": "code",
   "execution_count": 11,
   "metadata": {},
   "outputs": [],
   "source": [
    "census_data['boro_ct2010']=census_data['boro_ct2010'].astype(str)"
   ]
  },
  {
   "cell_type": "code",
   "execution_count": 12,
   "metadata": {},
   "outputs": [],
   "source": [
    "joined_data = census_tract.merge(census_data, on='boro_ct2010')"
   ]
  },
  {
   "cell_type": "markdown",
   "metadata": {},
   "source": [
    "## Step 2.3 Join Data "
   ]
  },
  {
   "cell_type": "code",
   "execution_count": 13,
   "metadata": {},
   "outputs": [],
   "source": [
    "joined_data = joined_data.to_crs(epsg=3857)"
   ]
  },
  {
   "cell_type": "code",
   "execution_count": 14,
   "metadata": {},
   "outputs": [],
   "source": [
    "# perform the spatial join\n",
    "gdata = gpd.sjoin(joined_data, neighborhood, op='intersects', how='left')"
   ]
  },
  {
   "cell_type": "code",
   "execution_count": 15,
   "metadata": {},
   "outputs": [],
   "source": [
    "gdata_group = gdata.groupby(['ntaname_right']).sum()"
   ]
  },
  {
   "cell_type": "code",
   "execution_count": 16,
   "metadata": {},
   "outputs": [],
   "source": [
    "gdata_group =gdata_group.add_suffix('_sum').reset_index()"
   ]
  },
  {
   "cell_type": "code",
   "execution_count": 17,
   "metadata": {},
   "outputs": [],
   "source": [
    "gdata_group = gdata_group[['ntaname_right','B01001_001E_sum', 'ukrainian_sum', 'turkish_sum', 'romanian_sum', 'russian_sum', 'polish_sum', 'german_sum', 'italian_sum', 'french_sum', 'arabian_sum']]"
   ]
  },
  {
   "cell_type": "code",
   "execution_count": 18,
   "metadata": {},
   "outputs": [],
   "source": [
    "gdata_group.rename(columns={'ntaname_right':'ntaname'}, inplace=True)"
   ]
  },
  {
   "cell_type": "code",
   "execution_count": 19,
   "metadata": {},
   "outputs": [],
   "source": [
    "neighborhood_data = neighborhood.merge(gdata_group, on='ntaname')"
   ]
  },
  {
   "cell_type": "markdown",
   "metadata": {},
   "source": [
    "# Step 2.4 Yelp API"
   ]
  },
  {
   "cell_type": "code",
   "execution_count": 152,
   "metadata": {},
   "outputs": [],
   "source": [
    "from pandas.io.json import json_normalize\n",
    "import json\n",
    "from pprint import pprint\n",
    "import io"
   ]
  },
  {
   "cell_type": "code",
   "execution_count": 153,
   "metadata": {},
   "outputs": [],
   "source": [
    "url = \"https://api.yelp.com/v3/businesses/search\""
   ]
  },
  {
   "cell_type": "code",
   "execution_count": 154,
   "metadata": {},
   "outputs": [],
   "source": [
    "rus = {'term' : 'restaurants', 'location' : 'NYC', 'categories': 'russian'}\n",
    "ukr = {'term' : 'restaurants', 'location' : 'NYC', 'categories': 'ukrainian'}\n",
    "rom = {'term' : 'restaurants', 'location' : 'NYC', 'categories': 'romanian'}\n",
    "pol = {'term' : 'restaurants', 'location' : 'NYC', 'categories': 'polish'}\n",
    "ger = {'term' : 'restaurants', 'location' : 'NYC', 'categories': 'german'}\n",
    "ita = {'term' : 'restaurants', 'location' : 'NYC', 'categories': 'italian'}\n",
    "fra = {'term' : 'restaurants', 'location' : 'NYC', 'categories': 'french'}\n",
    "ara = {'term' : 'restaurants', 'location' : 'NYC', 'categories': 'arabian'}"
   ]
  },
  {
   "cell_type": "code",
   "execution_count": 155,
   "metadata": {},
   "outputs": [],
   "source": [
    "rus_req = requests.get(url, params=rus, headers=headers)\n",
    "ukr_req = requests.get(url, params=ukr, headers=headers)\n",
    "rom_req = requests.get(url, params=rom, headers=headers)\n",
    "pol_req = requests.get(url, params=pol, headers=headers)\n",
    "ger_req = requests.get(url, params=ger, headers=headers)\n",
    "ita_req = requests.get(url, params=ita, headers=headers)\n",
    "fra_req = requests.get(url, params=fra, headers=headers)\n",
    "ara_req = requests.get(url, params=ara, headers=headers)"
   ]
  },
  {
   "cell_type": "code",
   "execution_count": 157,
   "metadata": {},
   "outputs": [],
   "source": [
    "rus_res = pd.DataFrame.from_dict(json_normalize(json.loads(rus_req.text)['businesses']), orient='columns')\n",
    "ukr_res = pd.DataFrame.from_dict(json_normalize(json.loads(ukr_req.text)['businesses']), orient='columns')\n",
    "pol_res = pd.DataFrame.from_dict(json_normalize(json.loads(pol_req.text)['businesses']), orient='columns')\n",
    "ger_res = pd.DataFrame.from_dict(json_normalize(json.loads(ger_req.text)['businesses']), orient='columns')\n",
    "ita_res = pd.DataFrame.from_dict(json_normalize(json.loads(ita_req.text)['businesses']), orient='columns')\n",
    "fra_res = pd.DataFrame.from_dict(json_normalize(json.loads(fra_req.text)['businesses']), orient='columns')\n",
    "ara_res = pd.DataFrame.from_dict(json_normalize(json.loads(ara_req.text)['businesses']), orient='columns')"
   ]
  },
  {
   "cell_type": "code",
   "execution_count": 29,
   "metadata": {},
   "outputs": [
    {
     "data": {
      "text/html": [
       "<div>\n",
       "<style scoped>\n",
       "    .dataframe tbody tr th:only-of-type {\n",
       "        vertical-align: middle;\n",
       "    }\n",
       "\n",
       "    .dataframe tbody tr th {\n",
       "        vertical-align: top;\n",
       "    }\n",
       "\n",
       "    .dataframe thead th {\n",
       "        text-align: right;\n",
       "    }\n",
       "</style>\n",
       "<table border=\"1\" class=\"dataframe\">\n",
       "  <thead>\n",
       "    <tr style=\"text-align: right;\">\n",
       "      <th></th>\n",
       "      <th>alias</th>\n",
       "      <th>categories</th>\n",
       "      <th>coordinates.latitude</th>\n",
       "      <th>coordinates.longitude</th>\n",
       "      <th>display_phone</th>\n",
       "      <th>distance</th>\n",
       "      <th>id</th>\n",
       "      <th>image_url</th>\n",
       "      <th>is_closed</th>\n",
       "      <th>location.address1</th>\n",
       "      <th>...</th>\n",
       "      <th>location.display_address</th>\n",
       "      <th>location.state</th>\n",
       "      <th>location.zip_code</th>\n",
       "      <th>name</th>\n",
       "      <th>phone</th>\n",
       "      <th>price</th>\n",
       "      <th>rating</th>\n",
       "      <th>review_count</th>\n",
       "      <th>transactions</th>\n",
       "      <th>url</th>\n",
       "    </tr>\n",
       "  </thead>\n",
       "  <tbody>\n",
       "    <tr>\n",
       "      <th>0</th>\n",
       "      <td>russian-samovar-restaurant-and-piano-bar-new-y...</td>\n",
       "      <td>[{'alias': 'russian', 'title': 'Russian'}, {'a...</td>\n",
       "      <td>40.76320</td>\n",
       "      <td>-73.98469</td>\n",
       "      <td>(212) 757-0168</td>\n",
       "      <td>6468.137461</td>\n",
       "      <td>lSJD2Gcf9LjJqpLE7pUlWQ</td>\n",
       "      <td>https://s3-media2.fl.yelpcdn.com/bphoto/o8_HWE...</td>\n",
       "      <td>False</td>\n",
       "      <td>256 W 52nd St</td>\n",
       "      <td>...</td>\n",
       "      <td>[256 W 52nd St, New York, NY 10019]</td>\n",
       "      <td>NY</td>\n",
       "      <td>10019</td>\n",
       "      <td>Russian Samovar Restaurant and Piano Bar</td>\n",
       "      <td>+12127570168</td>\n",
       "      <td>$$</td>\n",
       "      <td>4.0</td>\n",
       "      <td>400</td>\n",
       "      <td>[restaurant_reservation, pickup, delivery]</td>\n",
       "      <td>https://www.yelp.com/biz/russian-samovar-resta...</td>\n",
       "    </tr>\n",
       "    <tr>\n",
       "      <th>1</th>\n",
       "      <td>farida-central-asian-cuisine-and-grill-new-york-2</td>\n",
       "      <td>[{'alias': 'uzbek', 'title': 'Uzbek'}, {'alias...</td>\n",
       "      <td>40.75568</td>\n",
       "      <td>-73.99441</td>\n",
       "      <td>(646) 863-2020</td>\n",
       "      <td>5576.668196</td>\n",
       "      <td>tXZOJhUUknjTRRo9j4ckZg</td>\n",
       "      <td>https://s3-media1.fl.yelpcdn.com/bphoto/8PDT9g...</td>\n",
       "      <td>False</td>\n",
       "      <td>498 9th Ave</td>\n",
       "      <td>...</td>\n",
       "      <td>[498 9th Ave, New York, NY 10018]</td>\n",
       "      <td>NY</td>\n",
       "      <td>10018</td>\n",
       "      <td>Farida Central Asian Cuisine &amp; Grill</td>\n",
       "      <td>+16468632020</td>\n",
       "      <td>$$</td>\n",
       "      <td>4.5</td>\n",
       "      <td>165</td>\n",
       "      <td>[delivery, pickup]</td>\n",
       "      <td>https://www.yelp.com/biz/farida-central-asian-...</td>\n",
       "    </tr>\n",
       "    <tr>\n",
       "      <th>2</th>\n",
       "      <td>russian-vodka-room-new-york</td>\n",
       "      <td>[{'alias': 'lounges', 'title': 'Lounges'}, {'a...</td>\n",
       "      <td>40.76349</td>\n",
       "      <td>-73.98480</td>\n",
       "      <td>(212) 307-5835</td>\n",
       "      <td>6503.730872</td>\n",
       "      <td>wJ9VnRlrJJP5QnVohBDjoA</td>\n",
       "      <td>https://s3-media3.fl.yelpcdn.com/bphoto/EJsBbP...</td>\n",
       "      <td>False</td>\n",
       "      <td>265 W 52nd St</td>\n",
       "      <td>...</td>\n",
       "      <td>[265 W 52nd St, New York, NY 10019]</td>\n",
       "      <td>NY</td>\n",
       "      <td>10019</td>\n",
       "      <td>Russian Vodka Room</td>\n",
       "      <td>+12123075835</td>\n",
       "      <td>$$</td>\n",
       "      <td>4.0</td>\n",
       "      <td>524</td>\n",
       "      <td>[]</td>\n",
       "      <td>https://www.yelp.com/biz/russian-vodka-room-ne...</td>\n",
       "    </tr>\n",
       "    <tr>\n",
       "      <th>3</th>\n",
       "      <td>mari-vanna-new-york-2</td>\n",
       "      <td>[{'alias': 'russian', 'title': 'Russian'}]</td>\n",
       "      <td>40.73878</td>\n",
       "      <td>-73.98858</td>\n",
       "      <td>(212) 777-1955</td>\n",
       "      <td>3739.975650</td>\n",
       "      <td>btLgjl8CEgW2wvB0ZI-Aqg</td>\n",
       "      <td>https://s3-media3.fl.yelpcdn.com/bphoto/Fp_3cL...</td>\n",
       "      <td>False</td>\n",
       "      <td>41 E 20th St</td>\n",
       "      <td>...</td>\n",
       "      <td>[41 E 20th St, New York, NY 10003]</td>\n",
       "      <td>NY</td>\n",
       "      <td>10003</td>\n",
       "      <td>Mari Vanna</td>\n",
       "      <td>+12127771955</td>\n",
       "      <td>$$$</td>\n",
       "      <td>4.0</td>\n",
       "      <td>619</td>\n",
       "      <td>[pickup, delivery]</td>\n",
       "      <td>https://www.yelp.com/biz/mari-vanna-new-york-2...</td>\n",
       "    </tr>\n",
       "    <tr>\n",
       "      <th>4</th>\n",
       "      <td>tzarevna-new-york</td>\n",
       "      <td>[{'alias': 'russian', 'title': 'Russian'}, {'a...</td>\n",
       "      <td>40.72082</td>\n",
       "      <td>-73.98874</td>\n",
       "      <td>(917) 388-2814</td>\n",
       "      <td>1768.212605</td>\n",
       "      <td>6Lz2pAw1LqIa7nKsRUT52A</td>\n",
       "      <td>https://s3-media4.fl.yelpcdn.com/bphoto/msxiBu...</td>\n",
       "      <td>False</td>\n",
       "      <td>154 Orchard St</td>\n",
       "      <td>...</td>\n",
       "      <td>[154 Orchard St, New York, NY 10002]</td>\n",
       "      <td>NY</td>\n",
       "      <td>10002</td>\n",
       "      <td>Tzarevna</td>\n",
       "      <td>+19173882814</td>\n",
       "      <td>NaN</td>\n",
       "      <td>5.0</td>\n",
       "      <td>9</td>\n",
       "      <td>[pickup, delivery]</td>\n",
       "      <td>https://www.yelp.com/biz/tzarevna-new-york?adj...</td>\n",
       "    </tr>\n",
       "  </tbody>\n",
       "</table>\n",
       "<p>5 rows × 24 columns</p>\n",
       "</div>"
      ],
      "text/plain": [
       "                                               alias  \\\n",
       "0  russian-samovar-restaurant-and-piano-bar-new-y...   \n",
       "1  farida-central-asian-cuisine-and-grill-new-york-2   \n",
       "2                        russian-vodka-room-new-york   \n",
       "3                              mari-vanna-new-york-2   \n",
       "4                                  tzarevna-new-york   \n",
       "\n",
       "                                          categories  coordinates.latitude  \\\n",
       "0  [{'alias': 'russian', 'title': 'Russian'}, {'a...              40.76320   \n",
       "1  [{'alias': 'uzbek', 'title': 'Uzbek'}, {'alias...              40.75568   \n",
       "2  [{'alias': 'lounges', 'title': 'Lounges'}, {'a...              40.76349   \n",
       "3         [{'alias': 'russian', 'title': 'Russian'}]              40.73878   \n",
       "4  [{'alias': 'russian', 'title': 'Russian'}, {'a...              40.72082   \n",
       "\n",
       "   coordinates.longitude   display_phone     distance                      id  \\\n",
       "0              -73.98469  (212) 757-0168  6468.137461  lSJD2Gcf9LjJqpLE7pUlWQ   \n",
       "1              -73.99441  (646) 863-2020  5576.668196  tXZOJhUUknjTRRo9j4ckZg   \n",
       "2              -73.98480  (212) 307-5835  6503.730872  wJ9VnRlrJJP5QnVohBDjoA   \n",
       "3              -73.98858  (212) 777-1955  3739.975650  btLgjl8CEgW2wvB0ZI-Aqg   \n",
       "4              -73.98874  (917) 388-2814  1768.212605  6Lz2pAw1LqIa7nKsRUT52A   \n",
       "\n",
       "                                           image_url  is_closed  \\\n",
       "0  https://s3-media2.fl.yelpcdn.com/bphoto/o8_HWE...      False   \n",
       "1  https://s3-media1.fl.yelpcdn.com/bphoto/8PDT9g...      False   \n",
       "2  https://s3-media3.fl.yelpcdn.com/bphoto/EJsBbP...      False   \n",
       "3  https://s3-media3.fl.yelpcdn.com/bphoto/Fp_3cL...      False   \n",
       "4  https://s3-media4.fl.yelpcdn.com/bphoto/msxiBu...      False   \n",
       "\n",
       "  location.address1  ...              location.display_address location.state  \\\n",
       "0     256 W 52nd St  ...   [256 W 52nd St, New York, NY 10019]             NY   \n",
       "1       498 9th Ave  ...     [498 9th Ave, New York, NY 10018]             NY   \n",
       "2     265 W 52nd St  ...   [265 W 52nd St, New York, NY 10019]             NY   \n",
       "3      41 E 20th St  ...    [41 E 20th St, New York, NY 10003]             NY   \n",
       "4    154 Orchard St  ...  [154 Orchard St, New York, NY 10002]             NY   \n",
       "\n",
       "  location.zip_code                                      name         phone  \\\n",
       "0             10019  Russian Samovar Restaurant and Piano Bar  +12127570168   \n",
       "1             10018      Farida Central Asian Cuisine & Grill  +16468632020   \n",
       "2             10019                        Russian Vodka Room  +12123075835   \n",
       "3             10003                                Mari Vanna  +12127771955   \n",
       "4             10002                                  Tzarevna  +19173882814   \n",
       "\n",
       "  price rating review_count                                transactions  \\\n",
       "0    $$    4.0          400  [restaurant_reservation, pickup, delivery]   \n",
       "1    $$    4.5          165                          [delivery, pickup]   \n",
       "2    $$    4.0          524                                          []   \n",
       "3   $$$    4.0          619                          [pickup, delivery]   \n",
       "4   NaN    5.0            9                          [pickup, delivery]   \n",
       "\n",
       "                                                 url  \n",
       "0  https://www.yelp.com/biz/russian-samovar-resta...  \n",
       "1  https://www.yelp.com/biz/farida-central-asian-...  \n",
       "2  https://www.yelp.com/biz/russian-vodka-room-ne...  \n",
       "3  https://www.yelp.com/biz/mari-vanna-new-york-2...  \n",
       "4  https://www.yelp.com/biz/tzarevna-new-york?adj...  \n",
       "\n",
       "[5 rows x 24 columns]"
      ]
     },
     "execution_count": 29,
     "metadata": {},
     "output_type": "execute_result"
    }
   ],
   "source": [
    "rus_res.head()"
   ]
  },
  {
   "cell_type": "code",
   "execution_count": 158,
   "metadata": {},
   "outputs": [],
   "source": [
    "rus_gpd = gpd.GeoDataFrame(rus_res, geometry = gpd.points_from_xy(rus_res['coordinates.longitude'],rus_res['coordinates.latitude']))\n",
    "ukr_gpd = gpd.GeoDataFrame(ukr_res, geometry = gpd.points_from_xy(ukr_res['coordinates.longitude'],ukr_res['coordinates.latitude']))\n",
    "pol_gpd = gpd.GeoDataFrame(pol_res, geometry = gpd.points_from_xy(pol_res['coordinates.longitude'],pol_res['coordinates.latitude']))\n",
    "ger_gpd = gpd.GeoDataFrame(ger_res, geometry = gpd.points_from_xy(ger_res['coordinates.longitude'],ger_res['coordinates.latitude']))\n",
    "ita_gpd = gpd.GeoDataFrame(ita_res, geometry = gpd.points_from_xy(ita_res['coordinates.longitude'],ita_res['coordinates.latitude']))\n",
    "fra_gpd = gpd.GeoDataFrame(fra_res, geometry = gpd.points_from_xy(fra_res['coordinates.longitude'],fra_res['coordinates.latitude']))\n",
    "ara_gpd = gpd.GeoDataFrame(ara_res, geometry = gpd.points_from_xy(ara_res['coordinates.longitude'],ara_res['coordinates.latitude']))"
   ]
  },
  {
   "cell_type": "markdown",
   "metadata": {},
   "source": [
    "# Step 3. Plot Pct Population"
   ]
  },
  {
   "cell_type": "code",
   "execution_count": 33,
   "metadata": {},
   "outputs": [],
   "source": [
    "import folium\n",
    "import osmnx as ox\n",
    "import networkx as nx\n",
    "import matplotlib.colors as mcolors\n",
    "from folium.plugins import HeatMap\n",
    "from IPython.display import IFrame\n",
    "import requests\n",
    "import json\n",
    "import matplotlib.colors as mcolors\n",
    "from xml.etree import ElementTree\n",
    "from folium.plugins import MarkerCluster\n",
    "from folium.map import *\n",
    "from folium.plugins import MarkerCluster"
   ]
  },
  {
   "cell_type": "markdown",
   "metadata": {},
   "source": [
    "## Step 3.1 Normalize the data column to 0 to 1 "
   ]
  },
  {
   "cell_type": "code",
   "execution_count": 34,
   "metadata": {},
   "outputs": [],
   "source": [
    "neighborhood_data['pct_russian'] = neighborhood_data['russian_sum'] / neighborhood_data['B01001_001E_sum']\n",
    "neighborhood_data['pct_ukrainian'] = neighborhood_data['ukrainian_sum'] / neighborhood_data['B01001_001E_sum']\n",
    "neighborhood_data['pct_turkish'] = neighborhood_data['turkish_sum'] / neighborhood_data['B01001_001E_sum']\n",
    "neighborhood_data['pct_romanian'] = neighborhood_data['romanian_sum'] / neighborhood_data['B01001_001E_sum']\n",
    "neighborhood_data['pct_polish'] = neighborhood_data['polish_sum'] / neighborhood_data['B01001_001E_sum']\n",
    "neighborhood_data['pct_german'] = neighborhood_data['german_sum'] / neighborhood_data['B01001_001E_sum']\n",
    "neighborhood_data['pct_italian'] = neighborhood_data['italian_sum'] / neighborhood_data['B01001_001E_sum']\n",
    "neighborhood_data['pct_french'] = neighborhood_data['french_sum'] / neighborhood_data['B01001_001E_sum']\n",
    "neighborhood_data['pct_arabian'] = neighborhood_data['arabian_sum'] / neighborhood_data['B01001_001E_sum']"
   ]
  },
  {
   "cell_type": "code",
   "execution_count": 35,
   "metadata": {},
   "outputs": [],
   "source": [
    "x = neighborhood_data['pct_russian']\n",
    "neighborhood_data['pct_russian_normalized'] = (x - x.min()) / (x.max() - x.min())\n",
    "\n",
    "x = neighborhood_data['pct_ukrainian']\n",
    "neighborhood_data['pct_ukrainian_normalized'] = (x - x.min()) / (x.max() - x.min())\n",
    "\n",
    "x = neighborhood_data['pct_turkish']\n",
    "neighborhood_data['pct_turkish_normalized'] = (x - x.min()) / (x.max() - x.min())\n",
    "\n",
    "x = neighborhood_data['pct_romanian']\n",
    "neighborhood_data['pct_romanian_normalized'] = (x - x.min()) / (x.max() - x.min())\n",
    "\n",
    "x = neighborhood_data['pct_polish']\n",
    "neighborhood_data['pct_polish_normalized'] = (x - x.min()) / (x.max() - x.min())\n",
    "\n",
    "x = neighborhood_data['pct_german']\n",
    "neighborhood_data['pct_german_normalized'] = (x - x.min()) / (x.max() - x.min())\n",
    "\n",
    "x = neighborhood_data['pct_italian']\n",
    "neighborhood_data['pct_italian_normalized'] = (x - x.min()) / (x.max() - x.min())\n",
    "\n",
    "x = neighborhood_data['pct_french']\n",
    "neighborhood_data['pct_french_normalized'] = (x - x.min()) / (x.max() - x.min())\n",
    "\n",
    "x = neighborhood_data['pct_arabian']\n",
    "neighborhood_data['pct_arabian_normalized'] = (x - x.min()) / (x.max() - x.min())\n"
   ]
  },
  {
   "cell_type": "code",
   "execution_count": 36,
   "metadata": {},
   "outputs": [],
   "source": [
    "# use a red-purple colorbrewer color scheme\n",
    "def get_highlighted_style(feature):\n",
    "    return {'weight': 2, 'color': 'red'}\n",
    "\n",
    "colorbar = plt.get_cmap('RdPu')\n",
    "\n",
    "def get_style_russian(feature):\n",
    "    value = feature['properties']['pct_russian_normalized']\n",
    "    rgb_color = colorbar(value)\n",
    "    color = mcolors.rgb2hex(rgb_color)\n",
    "    return {'weight': 0.25, 'color': color, 'fillColor': color, \"fillOpacity\": 0.75}\n",
    "\n",
    "def get_style_ukrainian(feature):\n",
    "    value = feature['properties']['pct_ukrainian_normalized']\n",
    "    rgb_color = colorbar(value)\n",
    "    color = mcolors.rgb2hex(rgb_color)\n",
    "    return {'weight': 0.25, 'color': color, 'fillColor': color, \"fillOpacity\": 0.75}\n",
    "\n",
    "def get_style_romanian(feature):\n",
    "    value = feature['properties']['pct_romanian_normalized']\n",
    "    rgb_color = colorbar(value)\n",
    "    color = mcolors.rgb2hex(rgb_color)\n",
    "    return {'weight': 0.25, 'color': color, 'fillColor': color, \"fillOpacity\": 0.75}\n",
    "\n",
    "def get_style_polish(feature):\n",
    "    value = feature['properties']['pct_polish_normalized']\n",
    "    rgb_color = colorbar(value)\n",
    "    color = mcolors.rgb2hex(rgb_color)\n",
    "    return {'weight': 0.25, 'color': color, 'fillColor': color, \"fillOpacity\": 0.75}\n",
    "\n",
    "def get_style_german(feature):\n",
    "    value = feature['properties']['pct_german_normalized']\n",
    "    rgb_color = colorbar(value)\n",
    "    color = mcolors.rgb2hex(rgb_color)\n",
    "    return {'weight': 0.25, 'color': color, 'fillColor': color, \"fillOpacity\": 0.75}\n",
    "\n",
    "def get_style_italian(feature):\n",
    "    value = feature['properties']['pct_italian_normalized']\n",
    "    rgb_color = colorbar(value)\n",
    "    color = mcolors.rgb2hex(rgb_color)\n",
    "    return {'weight': 0.25, 'color': color, 'fillColor': color, \"fillOpacity\": 0.75}\n",
    "\n",
    "def get_style_french(feature):\n",
    "    value = feature['properties']['pct_french_normalized']\n",
    "    rgb_color = colorbar(value)\n",
    "    color = mcolors.rgb2hex(rgb_color)\n",
    "    return {'weight': 0.25, 'color': color, 'fillColor': color, \"fillOpacity\": 0.75}\n",
    "\n",
    "def get_style_arabian(feature):\n",
    "    value = feature['properties']['pct_arabian_normalized']\n",
    "    rgb_color = colorbar(value)\n",
    "    color = mcolors.rgb2hex(rgb_color)\n",
    "    return {'weight': 0.25, 'color': color, 'fillColor': color, \"fillOpacity\": 0.75}"
   ]
  },
  {
   "cell_type": "code",
   "execution_count": 37,
   "metadata": {},
   "outputs": [],
   "source": [
    "def get_colors(feature):\n",
    "    if feature['rating']  == 1 or feature['rating']  == 1.5 :\n",
    "        return 'beige'\n",
    "    elif feature['rating'] == 2 or feature['rating'] == 2.5 :\n",
    "        return 'orange'\n",
    "    elif feature['rating'] == 3 or feature['rating'] == 3.5:\n",
    "        return 'lighted'\n",
    "    elif feature['rating'] == 4 or feature['rating'] == 4.5:\n",
    "        return 'red'\n",
    "    elif feature['rating'] == 5:\n",
    "        return 'darkred'\n",
    "    else:\n",
    "        return 'lightgray'"
   ]
  },
  {
   "cell_type": "code",
   "execution_count": 39,
   "metadata": {},
   "outputs": [],
   "source": [
    "rus_gpd[\"color\"] = rus_gpd.apply(get_colors, axis=1)\n",
    "ukr_gpd[\"color\"] = ukr_gpd.apply(get_colors, axis=1)\n",
    "pol_gpd[\"color\"] = pol_gpd.apply(get_colors, axis=1)\n",
    "ger_gpd[\"color\"] = ger_gpd.apply(get_colors, axis=1)\n",
    "ita_gpd[\"color\"] = ita_gpd.apply(get_colors, axis=1)\n"
   ]
  },
  {
   "cell_type": "code",
   "execution_count": 40,
   "metadata": {},
   "outputs": [
    {
     "ename": "NameError",
     "evalue": "name 'fra_gpd' is not defined",
     "output_type": "error",
     "traceback": [
      "\u001b[1;31m---------------------------------------------------------------------------\u001b[0m",
      "\u001b[1;31mNameError\u001b[0m                                 Traceback (most recent call last)",
      "\u001b[1;32m<ipython-input-40-99d8d59405d8>\u001b[0m in \u001b[0;36m<module>\u001b[1;34m\u001b[0m\n\u001b[0;32m      4\u001b[0m \u001b[0mger_locs\u001b[0m \u001b[1;33m=\u001b[0m \u001b[0mger_gpd\u001b[0m\u001b[1;33m[\u001b[0m\u001b[1;33m[\u001b[0m\u001b[1;34m'coordinates.latitude'\u001b[0m\u001b[1;33m,\u001b[0m \u001b[1;34m'coordinates.longitude'\u001b[0m\u001b[1;33m]\u001b[0m\u001b[1;33m]\u001b[0m\u001b[1;33m.\u001b[0m\u001b[0mvalues\u001b[0m\u001b[1;33m.\u001b[0m\u001b[0mtolist\u001b[0m\u001b[1;33m(\u001b[0m\u001b[1;33m)\u001b[0m\u001b[1;33m\u001b[0m\u001b[1;33m\u001b[0m\u001b[0m\n\u001b[0;32m      5\u001b[0m \u001b[0mita_locs\u001b[0m \u001b[1;33m=\u001b[0m \u001b[0mita_gpd\u001b[0m\u001b[1;33m[\u001b[0m\u001b[1;33m[\u001b[0m\u001b[1;34m'coordinates.latitude'\u001b[0m\u001b[1;33m,\u001b[0m \u001b[1;34m'coordinates.longitude'\u001b[0m\u001b[1;33m]\u001b[0m\u001b[1;33m]\u001b[0m\u001b[1;33m.\u001b[0m\u001b[0mvalues\u001b[0m\u001b[1;33m.\u001b[0m\u001b[0mtolist\u001b[0m\u001b[1;33m(\u001b[0m\u001b[1;33m)\u001b[0m\u001b[1;33m\u001b[0m\u001b[1;33m\u001b[0m\u001b[0m\n\u001b[1;32m----> 6\u001b[1;33m \u001b[0mfra_locs\u001b[0m \u001b[1;33m=\u001b[0m \u001b[0mfra_gpd\u001b[0m\u001b[1;33m[\u001b[0m\u001b[1;33m[\u001b[0m\u001b[1;34m'coordinates.latitude'\u001b[0m\u001b[1;33m,\u001b[0m \u001b[1;34m'coordinates.longitude'\u001b[0m\u001b[1;33m]\u001b[0m\u001b[1;33m]\u001b[0m\u001b[1;33m.\u001b[0m\u001b[0mvalues\u001b[0m\u001b[1;33m.\u001b[0m\u001b[0mtolist\u001b[0m\u001b[1;33m(\u001b[0m\u001b[1;33m)\u001b[0m\u001b[1;33m\u001b[0m\u001b[1;33m\u001b[0m\u001b[0m\n\u001b[0m\u001b[0;32m      7\u001b[0m \u001b[0mara_locs\u001b[0m \u001b[1;33m=\u001b[0m \u001b[0mara_gpd\u001b[0m\u001b[1;33m[\u001b[0m\u001b[1;33m[\u001b[0m\u001b[1;34m'coordinates.latitude'\u001b[0m\u001b[1;33m,\u001b[0m \u001b[1;34m'coordinates.longitude'\u001b[0m\u001b[1;33m]\u001b[0m\u001b[1;33m]\u001b[0m\u001b[1;33m.\u001b[0m\u001b[0mvalues\u001b[0m\u001b[1;33m.\u001b[0m\u001b[0mtolist\u001b[0m\u001b[1;33m(\u001b[0m\u001b[1;33m)\u001b[0m\u001b[1;33m\u001b[0m\u001b[1;33m\u001b[0m\u001b[0m\n",
      "\u001b[1;31mNameError\u001b[0m: name 'fra_gpd' is not defined"
     ]
    }
   ],
   "source": [
    "rus_locs = rus_gpd[['coordinates.latitude', 'coordinates.longitude']].values.tolist()\n",
    "ukr_locs = ukr_gpd[['coordinates.latitude', 'coordinates.longitude']].values.tolist()\n",
    "pol_locs = pol_gpd[['coordinates.latitude', 'coordinates.longitude']].values.tolist()\n",
    "ger_locs = ger_gpd[['coordinates.latitude', 'coordinates.longitude']].values.tolist()\n",
    "ita_locs = ita_gpd[['coordinates.latitude', 'coordinates.longitude']].values.tolist()\n",
    "fra_locs = fra_gpd[['coordinates.latitude', 'coordinates.longitude']].values.tolist()\n",
    "ara_locs = ara_gpd[['coordinates.latitude', 'coordinates.longitude']].values.tolist()"
   ]
  },
  {
   "cell_type": "code",
   "execution_count": 44,
   "metadata": {},
   "outputs": [],
   "source": [
    "# initialize the map\n",
    "m = folium.Map(location=[40.733189, -73.932258], zoom_start=11, tiles='cartodbpositron')\n",
    "\n",
    "# add the GeoJson to the map\n",
    "folium.GeoJson(\n",
    "    neighborhood_data,\n",
    "    name='Russian Population',\n",
    "    style_function=get_style_russian,\n",
    "    highlight_function=get_highlighted_style,\n",
    "    tooltip=folium.GeoJsonTooltip(['ntaname', 'pct_russian'])\n",
    ").add_to(m)\n",
    "\n",
    "\n",
    "russian_res = FeatureGroup(name='Russian Restaurants')\n",
    "for point in range(0, len(rus_locs)):\n",
    "    russian_res.add_child(folium.Marker(rus_locs[point],icon=folium.Icon(color=rus_gpd[\"color\"][point]),\n",
    "                                        popup='Name: '+rus_gpd['name'][point]+'<br>Address: '+rus_gpd['location.address1'][point]))\n",
    "\n",
    "m.add_child(russian_res)\n",
    "\n",
    "folium.GeoJson(\n",
    "    neighborhood_data,\n",
    "    name='Ukranian Population',\n",
    "    style_function=get_style_ukrainian,\n",
    "    highlight_function=get_highlighted_style,\n",
    "    tooltip=folium.GeoJsonTooltip(['ntaname', 'pct_ukrainian'])\n",
    ").add_to(m)\n",
    "\n",
    "ukrainian_res = FeatureGroup(name='Ukranian Restaurants')\n",
    "for point in range(0, len(ukr_locs)):\n",
    "    ukrainian_res.add_child(folium.Marker(ukr_locs[point],icon=folium.Icon(color=ukr_gpd[\"color\"][point]),\n",
    "                                        popup='Name: '+ukr_gpd['name'][point]+'<br>Address: '+ukr_gpd['location.address1'][point]))\n",
    "\n",
    "m.add_child(ukrainian_res)\n",
    "    \n",
    "folium.GeoJson(\n",
    "    neighborhood_data,\n",
    "    name='Polish Population',\n",
    "    style_function=get_style_polish,\n",
    "    highlight_function=get_highlighted_style,\n",
    "    tooltip=folium.GeoJsonTooltip(['ntaname', 'pct_polish'])\n",
    ").add_to(m)\n",
    "\n",
    "polish_res = FeatureGroup(name='Polish Restaurants')\n",
    "for point in range(0, len(pol_locs)):\n",
    "    polish_res.add_child(folium.Marker(pol_locs[point],icon=folium.Icon(color=pol_gpd[\"color\"][point]),\n",
    "                                        popup='Name: '+pol_gpd['name'][point]+'<br>Address: '+pol_gpd['location.address1'][point]))\n",
    "\n",
    "m.add_child(polish_res)\n",
    "    \n",
    "folium.GeoJson(\n",
    "    neighborhood_data,\n",
    "    name='German Population',\n",
    "    style_function=get_style_german,\n",
    "    highlight_function=get_highlighted_style,\n",
    "    tooltip=folium.GeoJsonTooltip(['ntaname', 'pct_german'])\n",
    ").add_to(m)\n",
    "\n",
    "german_res = FeatureGroup(name='German Restaurants')\n",
    "for point in range(0, len(ger_locs)):\n",
    "    german_res.add_child(folium.Marker(ger_locs[point],icon=folium.Icon(color=ger_gpd[\"color\"][point]),\n",
    "                                        popup='Name: '+ger_gpd['name'][point]+'<br>Address: '+ger_gpd['location.address1'][point]))\n",
    "\n",
    "m.add_child(german_res)\n",
    "    \n",
    "folium.GeoJson(\n",
    "    neighborhood_data,\n",
    "    name='Italian Population',\n",
    "    style_function=get_style_italian,\n",
    "    highlight_function=get_highlighted_style,\n",
    "    tooltip=folium.GeoJsonTooltip(['ntaname', 'pct_italian'])\n",
    ").add_to(m)\n",
    "\n",
    "italian_res = FeatureGroup(name='Italian Restaurants')\n",
    "for point in range(0, len(ita_locs)):\n",
    "    italian_res.add_child(folium.Marker(ita_locs[point],icon=folium.Icon(color=ita_gpd[\"color\"][point]),\n",
    "                                        popup='Name: '+ita_gpd['name'][point]+'<br>Address: '+ita_gpd['location.address1'][point]))\n",
    "\n",
    "m.add_child(italian_res)\n",
    "\n",
    "    \n",
    "folium.GeoJson(\n",
    "    neighborhood_data,\n",
    "    name='French Population',\n",
    "    style_function=get_style_french,\n",
    "    highlight_function=get_highlighted_style,\n",
    "    tooltip=folium.GeoJsonTooltip(['ntaname', 'pct_french'])\n",
    ").add_to(m)\n",
    "\n",
    "\n",
    "\n",
    "\n",
    "\n",
    "    \n",
    "folium.LayerControl().add_to(m)\n",
    "\n",
    "\n",
    "# avoid a rendering bug by saving as HTML and re-loading\n",
    "m.save('./data/map.html')"
   ]
  },
  {
   "cell_type": "markdown",
   "metadata": {},
   "source": [
    "#  Interactive plots"
   ]
  },
  {
   "cell_type": "code",
   "execution_count": 45,
   "metadata": {},
   "outputs": [],
   "source": [
    "import pandas as pd\n",
    "import geopandas as gpd\n",
    "import numpy as np\n",
    "import cartopy.crs as ccrs\n",
    "from shapely.geometry import Point\n",
    "from matplotlib import pyplot as plt\n",
    "%matplotlib inline\n",
    "import altair as alt\n",
    "import hvplot.pandas"
   ]
  },
  {
   "cell_type": "markdown",
   "metadata": {},
   "source": [
    "#   Res Plot"
   ]
  },
  {
   "cell_type": "code",
   "execution_count": 159,
   "metadata": {},
   "outputs": [],
   "source": [
    "rus_res['type'] = 'Russian'\n",
    "ukr_res['type'] = 'Ukrainian'\n",
    "pol_res['type'] = 'Polish'\n",
    "ger_res['type'] = 'German'\n",
    "ita_res['type'] = 'Italian'\n",
    "fra_res['type'] = 'French'\n",
    "ara_res['type'] = 'Arabian'"
   ]
  },
  {
   "cell_type": "code",
   "execution_count": 160,
   "metadata": {},
   "outputs": [],
   "source": [
    "rus = rus_res[['type','price','rating']]\n",
    "ukr = ukr_res[['type','price','rating']]\n",
    "pol = pol_res[['type','price','rating']]\n",
    "ger = ger_res[['type','price','rating']]\n",
    "ita = ita_res[['type','price','rating']]\n",
    "fra = fra_res[['type','price','rating']]\n",
    "ara = ara_res[['type','price','rating']]"
   ]
  },
  {
   "cell_type": "code",
   "execution_count": 162,
   "metadata": {},
   "outputs": [
    {
     "data": {
      "text/plain": [
       "112"
      ]
     },
     "execution_count": 162,
     "metadata": {},
     "output_type": "execute_result"
    }
   ],
   "source": [
    "frames = [rus, ukr, pol, ger, ita, fra, ara]\n",
    "allRes = pd.concat(frames)\n",
    "allRes['Count'] = 1\n",
    "len(allRes)"
   ]
  },
  {
   "cell_type": "code",
   "execution_count": 163,
   "metadata": {},
   "outputs": [
    {
     "data": {
      "text/plain": [
       "price  type     \n",
       "$      Arabian      2.0\n",
       "       Polish       4.5\n",
       "       Russian      4.5\n",
       "       Ukrainian    4.0\n",
       "$$     Arabian      3.4\n",
       "Name: rating, dtype: float64"
      ]
     },
     "execution_count": 163,
     "metadata": {},
     "output_type": "execute_result"
    }
   ],
   "source": [
    "Res = allRes.groupby(['price', 'type'])['rating'].mean()\n",
    "Res.head()"
   ]
  },
  {
   "cell_type": "code",
   "execution_count": 164,
   "metadata": {},
   "outputs": [],
   "source": [
    "Average_Rating = Res.hvplot.bar(x='price', y='rating', by='type', rot=90)\n",
    "hvplot.save(Average_Rating, 'Average_Rating.html')"
   ]
  },
  {
   "cell_type": "code",
   "execution_count": 165,
   "metadata": {},
   "outputs": [
    {
     "data": {
      "application/javascript": [
       "\n",
       "// Ugly hack - see HoloViews #2574 for more information\n",
       "if (!(document.getElementById('8130')) && !(document.getElementById('_anim_imgNone'))) {\n",
       "  console.log(\"Creating DOM nodes dynamically for assumed nbconvert export. To generate clean HTML output set HV_DOC_HTML as an environment variable.\")\n",
       "  var htmlObject = document.createElement('div');\n",
       "  htmlObject.innerHTML = `<div id='8130' style='display: table; margin: 0 auto;'>\n",
       "\n",
       "\n",
       "\n",
       "\n",
       "\n",
       "  <div class=\"bk-root\" id=\"9c7ac609-1714-4e42-9bdd-1404e30fdbe2\" data-root-id=\"8130\"></div>\n",
       "</div>`;\n",
       "  var scriptTags = document.getElementsByTagName('script');\n",
       "  var parentTag = scriptTags[scriptTags.length-1].parentNode;\n",
       "  if (parentTag.attributes.length && (parentTag.attributes[0].name == 'data-shell-mode')) {\n",
       "    alert('Displaying PyViz objects in JupyterLab requires the jupyterlab_pyviz extension to be installed, install it with:\\n\\n\\tjupyter labextension install @pyviz/jupyterlab_pyviz');\n",
       "  } else {\n",
       "    parentTag.append(htmlObject)\n",
       "  }\n",
       "}\n",
       "(function(root) {\n",
       "  function embed_document(root) {\n",
       "    \n",
       "  var docs_json = {\"22002965-6246-482b-aab9-10f2bcb81e1b\":{\"roots\":{\"references\":[{\"attributes\":{\"below\":[{\"id\":\"8139\",\"type\":\"CategoricalAxis\"}],\"center\":[{\"id\":\"8142\",\"type\":\"Grid\"},{\"id\":\"8147\",\"type\":\"Grid\"}],\"left\":[{\"id\":\"8143\",\"type\":\"LinearAxis\"}],\"margin\":null,\"min_border_bottom\":10,\"min_border_left\":10,\"min_border_right\":10,\"min_border_top\":10,\"plot_height\":300,\"plot_width\":700,\"renderers\":[{\"id\":\"8167\",\"type\":\"GlyphRenderer\"}],\"sizing_mode\":\"fixed\",\"title\":{\"id\":\"8131\",\"type\":\"Title\"},\"toolbar\":{\"id\":\"8153\",\"type\":\"Toolbar\"},\"x_range\":{\"id\":\"8127\",\"type\":\"FactorRange\"},\"x_scale\":{\"id\":\"8135\",\"type\":\"CategoricalScale\"},\"y_range\":{\"id\":\"8128\",\"type\":\"Range1d\"},\"y_scale\":{\"id\":\"8137\",\"type\":\"LinearScale\"}},\"id\":\"8130\",\"subtype\":\"Figure\",\"type\":\"Plot\"},{\"attributes\":{\"axis_label\":\"price, type\",\"bounds\":\"auto\",\"formatter\":{\"id\":\"8169\",\"type\":\"CategoricalTickFormatter\"},\"major_label_orientation\":1.5707963267948966,\"ticker\":{\"id\":\"8140\",\"type\":\"CategoricalTicker\"}},\"id\":\"8139\",\"type\":\"CategoricalAxis\"},{\"attributes\":{\"active_drag\":\"auto\",\"active_inspect\":\"auto\",\"active_multi\":null,\"active_scroll\":\"auto\",\"active_tap\":\"auto\",\"tools\":[{\"id\":\"8129\",\"type\":\"HoverTool\"},{\"id\":\"8148\",\"type\":\"SaveTool\"},{\"id\":\"8149\",\"type\":\"PanTool\"},{\"id\":\"8150\",\"type\":\"WheelZoomTool\"},{\"id\":\"8151\",\"type\":\"BoxZoomTool\"},{\"id\":\"8152\",\"type\":\"ResetTool\"}]},\"id\":\"8153\",\"type\":\"Toolbar\"},{\"attributes\":{\"data_source\":{\"id\":\"8161\",\"type\":\"ColumnDataSource\"},\"glyph\":{\"id\":\"8164\",\"type\":\"VBar\"},\"hover_glyph\":null,\"muted_glyph\":{\"id\":\"8166\",\"type\":\"VBar\"},\"nonselection_glyph\":{\"id\":\"8165\",\"type\":\"VBar\"},\"selection_glyph\":null,\"view\":{\"id\":\"8168\",\"type\":\"CDSView\"}},\"id\":\"8167\",\"type\":\"GlyphRenderer\"},{\"attributes\":{},\"id\":\"8140\",\"type\":\"CategoricalTicker\"},{\"attributes\":{},\"id\":\"8135\",\"type\":\"CategoricalScale\"},{\"attributes\":{\"callback\":null,\"factors\":[[\"$\",\"Arabian\"],[\"$\",\"French\"],[\"$\",\"German\"],[\"$\",\"Italian\"],[\"$\",\"Polish\"],[\"$\",\"Russian\"],[\"$\",\"Ukrainian\"],[\"$$\",\"Arabian\"],[\"$$\",\"French\"],[\"$$\",\"German\"],[\"$$\",\"Italian\"],[\"$$\",\"Polish\"],[\"$$\",\"Russian\"],[\"$$\",\"Ukrainian\"],[\"$$$\",\"Arabian\"],[\"$$$\",\"French\"],[\"$$$\",\"German\"],[\"$$$\",\"Italian\"],[\"$$$\",\"Polish\"],[\"$$$\",\"Russian\"],[\"$$$\",\"Ukrainian\"],[\"$$$$\",\"Arabian\"],[\"$$$$\",\"French\"],[\"$$$$\",\"German\"],[\"$$$$\",\"Italian\"],[\"$$$$\",\"Polish\"],[\"$$$$\",\"Russian\"],[\"$$$$\",\"Ukrainian\"]],\"tags\":[[[\"price\",\"price\",null],[\"type\",\"type\",null]]]},\"id\":\"8127\",\"type\":\"FactorRange\"},{\"attributes\":{\"axis_label\":\"\",\"bounds\":\"auto\",\"formatter\":{\"id\":\"8172\",\"type\":\"BasicTickFormatter\"},\"major_label_orientation\":\"horizontal\",\"ticker\":{\"id\":\"8144\",\"type\":\"BasicTicker\"}},\"id\":\"8143\",\"type\":\"LinearAxis\"},{\"attributes\":{\"callback\":null,\"data\":{\"price\":[\"$\",\"$$\",\"$\",\"$$\",\"$$$$\",\"$\",\"$$\",\"$$$\",\"$$$$\",\"$\",\"$$\",\"$$\",\"$$$\",\"$$$$\",\"$$\",\"$$$\",\"$$\",\"$$$\"],\"rating\":{\"__ndarray__\":\"AAAAAAAAAEAzMzMzMzMLQAAAAAAAABJAdmIndmInEEAAAAAAAAASQAAAAAAAABJAYid2Yid2EEAAAAAAAAAMQAAAAAAAAAhAAAAAAAAAEECrqqqqqqoQQNmJndiJnRBAAAAAAACAEUCrqqqqqqoSQDmO4ziO4w5AAAAAAAAAEEDkOI7jOI4QQAAAAAAAABJA\",\"dtype\":\"float64\",\"shape\":[18]},\"type\":[\"Arabian\",\"Arabian\",\"Polish\",\"Polish\",\"Polish\",\"Russian\",\"Russian\",\"Russian\",\"Russian\",\"Ukrainian\",\"Ukrainian\",\"French\",\"French\",\"French\",\"German\",\"German\",\"Italian\",\"Italian\"],\"xoffsets\":[[\"$\",\"Arabian\"],[\"$$\",\"Arabian\"],[\"$\",\"Polish\"],[\"$$\",\"Polish\"],[\"$$$$\",\"Polish\"],[\"$\",\"Russian\"],[\"$$\",\"Russian\"],[\"$$$\",\"Russian\"],[\"$$$$\",\"Russian\"],[\"$\",\"Ukrainian\"],[\"$$\",\"Ukrainian\"],[\"$$\",\"French\"],[\"$$$\",\"French\"],[\"$$$$\",\"French\"],[\"$$\",\"German\"],[\"$$$\",\"German\"],[\"$$\",\"Italian\"],[\"$$$\",\"Italian\"]]},\"selected\":{\"id\":\"8162\",\"type\":\"Selection\"},\"selection_policy\":{\"id\":\"8180\",\"type\":\"UnionRenderers\"}},\"id\":\"8161\",\"type\":\"ColumnDataSource\"},{\"attributes\":{},\"id\":\"8149\",\"type\":\"PanTool\"},{\"attributes\":{\"overlay\":{\"id\":\"8178\",\"type\":\"BoxAnnotation\"}},\"id\":\"8151\",\"type\":\"BoxZoomTool\"},{\"attributes\":{\"source\":{\"id\":\"8161\",\"type\":\"ColumnDataSource\"}},\"id\":\"8168\",\"type\":\"CDSView\"},{\"attributes\":{\"factors\":[\"Arabian\",\"Polish\",\"Russian\",\"Ukrainian\",\"French\",\"German\",\"Italian\"],\"palette\":[\"#1f77b4\",\"#ff7f0e\",\"#2ca02c\",\"#d62728\",\"#9467bd\",\"#8c564b\",\"#e377c2\"]},\"id\":\"8160\",\"type\":\"CategoricalColorMapper\"},{\"attributes\":{},\"id\":\"8152\",\"type\":\"ResetTool\"},{\"attributes\":{},\"id\":\"8137\",\"type\":\"LinearScale\"},{\"attributes\":{},\"id\":\"8150\",\"type\":\"WheelZoomTool\"},{\"attributes\":{\"fill_color\":{\"field\":\"type\",\"transform\":{\"id\":\"8160\",\"type\":\"CategoricalColorMapper\"}},\"top\":{\"field\":\"rating\"},\"width\":{\"value\":0.8},\"x\":{\"field\":\"xoffsets\"}},\"id\":\"8164\",\"type\":\"VBar\"},{\"attributes\":{},\"id\":\"8180\",\"type\":\"UnionRenderers\"},{\"attributes\":{},\"id\":\"8162\",\"type\":\"Selection\"},{\"attributes\":{\"fill_alpha\":{\"value\":0.1},\"fill_color\":{\"field\":\"type\",\"transform\":{\"id\":\"8160\",\"type\":\"CategoricalColorMapper\"}},\"line_alpha\":{\"value\":0.1},\"line_color\":{\"value\":\"black\"},\"top\":{\"field\":\"rating\"},\"width\":{\"value\":0.8},\"x\":{\"field\":\"xoffsets\"}},\"id\":\"8165\",\"type\":\"VBar\"},{\"attributes\":{\"text\":\"rating\",\"text_color\":{\"value\":\"black\"},\"text_font_size\":{\"value\":\"12pt\"}},\"id\":\"8131\",\"type\":\"Title\"},{\"attributes\":{\"bottom_units\":\"screen\",\"fill_alpha\":{\"value\":0.5},\"fill_color\":{\"value\":\"lightgrey\"},\"left_units\":\"screen\",\"level\":\"overlay\",\"line_alpha\":{\"value\":1.0},\"line_color\":{\"value\":\"black\"},\"line_dash\":[4,4],\"line_width\":{\"value\":2},\"render_mode\":\"css\",\"right_units\":\"screen\",\"top_units\":\"screen\"},\"id\":\"8178\",\"type\":\"BoxAnnotation\"},{\"attributes\":{},\"id\":\"8172\",\"type\":\"BasicTickFormatter\"},{\"attributes\":{\"fill_alpha\":{\"value\":0.2},\"fill_color\":{\"field\":\"type\",\"transform\":{\"id\":\"8160\",\"type\":\"CategoricalColorMapper\"}},\"line_alpha\":{\"value\":0.2},\"line_color\":{\"value\":\"black\"},\"top\":{\"field\":\"rating\"},\"width\":{\"value\":0.8},\"x\":{\"field\":\"xoffsets\"}},\"id\":\"8166\",\"type\":\"VBar\"},{\"attributes\":{\"grid_line_color\":{\"value\":null},\"ticker\":{\"id\":\"8140\",\"type\":\"CategoricalTicker\"}},\"id\":\"8142\",\"type\":\"Grid\"},{\"attributes\":{},\"id\":\"8148\",\"type\":\"SaveTool\"},{\"attributes\":{\"callback\":null,\"renderers\":[{\"id\":\"8167\",\"type\":\"GlyphRenderer\"}],\"tooltips\":[[\"price\",\"@{price}\"],[\"type\",\"@{type}\"],[\"rating\",\"@{rating}\"]]},\"id\":\"8129\",\"type\":\"HoverTool\"},{\"attributes\":{\"callback\":null,\"end\":4.666666666666667,\"reset_end\":4.666666666666667,\"reset_start\":0,\"tags\":[[[\"rating\",\"rating\",null]]]},\"id\":\"8128\",\"type\":\"Range1d\"},{\"attributes\":{\"dimension\":1,\"grid_line_color\":{\"value\":null},\"ticker\":{\"id\":\"8144\",\"type\":\"BasicTicker\"}},\"id\":\"8147\",\"type\":\"Grid\"},{\"attributes\":{},\"id\":\"8169\",\"type\":\"CategoricalTickFormatter\"},{\"attributes\":{},\"id\":\"8144\",\"type\":\"BasicTicker\"}],\"root_ids\":[\"8130\"]},\"title\":\"Bokeh Application\",\"version\":\"1.1.0\"}};\n",
       "  var render_items = [{\"docid\":\"22002965-6246-482b-aab9-10f2bcb81e1b\",\"roots\":{\"8130\":\"9c7ac609-1714-4e42-9bdd-1404e30fdbe2\"}}];\n",
       "  root.Bokeh.embed.embed_items_notebook(docs_json, render_items);\n",
       "\n",
       "  }\n",
       "  if (root.Bokeh !== undefined) {\n",
       "    embed_document(root);\n",
       "  } else {\n",
       "    var attempts = 0;\n",
       "    var timer = setInterval(function(root) {\n",
       "      if (root.Bokeh !== undefined) {\n",
       "        embed_document(root);\n",
       "        clearInterval(timer);\n",
       "      }\n",
       "      attempts++;\n",
       "      if (attempts > 100) {\n",
       "        console.log(\"Bokeh: ERROR: Unable to run BokehJS code because BokehJS library is missing\");\n",
       "        clearInterval(timer);\n",
       "      }\n",
       "    }, 10, root)\n",
       "  }\n",
       "})(window);"
      ],
      "application/vnd.holoviews_exec.v0+json": "",
      "text/html": [
       "<div id='8130' style='display: table; margin: 0 auto;'>\n",
       "\n",
       "\n",
       "\n",
       "\n",
       "\n",
       "  <div class=\"bk-root\" id=\"9c7ac609-1714-4e42-9bdd-1404e30fdbe2\" data-root-id=\"8130\"></div>\n",
       "</div>"
      ],
      "text/plain": [
       ":Bars   [price,type]   (rating)"
      ]
     },
     "execution_count": 165,
     "metadata": {
      "application/vnd.holoviews_exec.v0+json": {
       "id": "8130"
      }
     },
     "output_type": "execute_result"
    }
   ],
   "source": [
    "Average_Rating"
   ]
  },
  {
   "cell_type": "code",
   "execution_count": 166,
   "metadata": {},
   "outputs": [
    {
     "data": {
      "text/html": [
       "<div>\n",
       "<style scoped>\n",
       "    .dataframe tbody tr th:only-of-type {\n",
       "        vertical-align: middle;\n",
       "    }\n",
       "\n",
       "    .dataframe tbody tr th {\n",
       "        vertical-align: top;\n",
       "    }\n",
       "\n",
       "    .dataframe thead th {\n",
       "        text-align: right;\n",
       "    }\n",
       "</style>\n",
       "<table border=\"1\" class=\"dataframe\">\n",
       "  <thead>\n",
       "    <tr style=\"text-align: right;\">\n",
       "      <th></th>\n",
       "      <th>type</th>\n",
       "      <th>price</th>\n",
       "      <th>rating</th>\n",
       "      <th>Count</th>\n",
       "    </tr>\n",
       "  </thead>\n",
       "  <tbody>\n",
       "    <tr>\n",
       "      <th>0</th>\n",
       "      <td>Russian</td>\n",
       "      <td>$$</td>\n",
       "      <td>4.5</td>\n",
       "      <td>1</td>\n",
       "    </tr>\n",
       "    <tr>\n",
       "      <th>1</th>\n",
       "      <td>Russian</td>\n",
       "      <td>NaN</td>\n",
       "      <td>5.0</td>\n",
       "      <td>1</td>\n",
       "    </tr>\n",
       "    <tr>\n",
       "      <th>2</th>\n",
       "      <td>Russian</td>\n",
       "      <td>$$$</td>\n",
       "      <td>4.0</td>\n",
       "      <td>1</td>\n",
       "    </tr>\n",
       "    <tr>\n",
       "      <th>3</th>\n",
       "      <td>Russian</td>\n",
       "      <td>$$</td>\n",
       "      <td>4.0</td>\n",
       "      <td>1</td>\n",
       "    </tr>\n",
       "    <tr>\n",
       "      <th>4</th>\n",
       "      <td>Russian</td>\n",
       "      <td>$$</td>\n",
       "      <td>4.0</td>\n",
       "      <td>1</td>\n",
       "    </tr>\n",
       "  </tbody>\n",
       "</table>\n",
       "</div>"
      ],
      "text/plain": [
       "      type price  rating  Count\n",
       "0  Russian    $$     4.5      1\n",
       "1  Russian   NaN     5.0      1\n",
       "2  Russian   $$$     4.0      1\n",
       "3  Russian    $$     4.0      1\n",
       "4  Russian    $$     4.0      1"
      ]
     },
     "execution_count": 166,
     "metadata": {},
     "output_type": "execute_result"
    }
   ],
   "source": [
    "allRes.head()"
   ]
  },
  {
   "cell_type": "code",
   "execution_count": 167,
   "metadata": {},
   "outputs": [
    {
     "data": {
      "text/html": [
       "<div>\n",
       "<style scoped>\n",
       "    .dataframe tbody tr th:only-of-type {\n",
       "        vertical-align: middle;\n",
       "    }\n",
       "\n",
       "    .dataframe tbody tr th {\n",
       "        vertical-align: top;\n",
       "    }\n",
       "\n",
       "    .dataframe thead th {\n",
       "        text-align: right;\n",
       "    }\n",
       "</style>\n",
       "<table border=\"1\" class=\"dataframe\">\n",
       "  <thead>\n",
       "    <tr style=\"text-align: right;\">\n",
       "      <th></th>\n",
       "      <th>rating</th>\n",
       "      <th>type</th>\n",
       "      <th>Count</th>\n",
       "    </tr>\n",
       "  </thead>\n",
       "  <tbody>\n",
       "    <tr>\n",
       "      <th>0</th>\n",
       "      <td>2.0</td>\n",
       "      <td>Arabian</td>\n",
       "      <td>3</td>\n",
       "    </tr>\n",
       "    <tr>\n",
       "      <th>1</th>\n",
       "      <td>2.5</td>\n",
       "      <td>Arabian</td>\n",
       "      <td>1</td>\n",
       "    </tr>\n",
       "    <tr>\n",
       "      <th>2</th>\n",
       "      <td>2.5</td>\n",
       "      <td>German</td>\n",
       "      <td>1</td>\n",
       "    </tr>\n",
       "    <tr>\n",
       "      <th>3</th>\n",
       "      <td>3.0</td>\n",
       "      <td>Russian</td>\n",
       "      <td>2</td>\n",
       "    </tr>\n",
       "    <tr>\n",
       "      <th>4</th>\n",
       "      <td>3.5</td>\n",
       "      <td>German</td>\n",
       "      <td>6</td>\n",
       "    </tr>\n",
       "  </tbody>\n",
       "</table>\n",
       "</div>"
      ],
      "text/plain": [
       "   rating     type  Count\n",
       "0     2.0  Arabian      3\n",
       "1     2.5  Arabian      1\n",
       "2     2.5   German      1\n",
       "3     3.0  Russian      2\n",
       "4     3.5   German      6"
      ]
     },
     "execution_count": 167,
     "metadata": {},
     "output_type": "execute_result"
    }
   ],
   "source": [
    "Res2 = allRes.groupby(['rating', 'type'])['Count'].sum().reset_index()\n",
    "Res2.head()"
   ]
  },
  {
   "cell_type": "code",
   "execution_count": 168,
   "metadata": {},
   "outputs": [
    {
     "data": {
      "application/javascript": [
       "\n",
       "// Ugly hack - see HoloViews #2574 for more information\n",
       "if (!(document.getElementById('8240')) && !(document.getElementById('_anim_imgNone'))) {\n",
       "  console.log(\"Creating DOM nodes dynamically for assumed nbconvert export. To generate clean HTML output set HV_DOC_HTML as an environment variable.\")\n",
       "  var htmlObject = document.createElement('div');\n",
       "  htmlObject.innerHTML = `<div id='8240' style='display: table; margin: 0 auto;'>\n",
       "\n",
       "\n",
       "\n",
       "\n",
       "\n",
       "  <div class=\"bk-root\" id=\"361bd2ae-390b-4fc6-a6fc-143ae302201c\" data-root-id=\"8240\"></div>\n",
       "</div>`;\n",
       "  var scriptTags = document.getElementsByTagName('script');\n",
       "  var parentTag = scriptTags[scriptTags.length-1].parentNode;\n",
       "  if (parentTag.attributes.length && (parentTag.attributes[0].name == 'data-shell-mode')) {\n",
       "    alert('Displaying PyViz objects in JupyterLab requires the jupyterlab_pyviz extension to be installed, install it with:\\n\\n\\tjupyter labextension install @pyviz/jupyterlab_pyviz');\n",
       "  } else {\n",
       "    parentTag.append(htmlObject)\n",
       "  }\n",
       "}\n",
       "(function(root) {\n",
       "  function embed_document(root) {\n",
       "    \n",
       "  var docs_json = {\"a65dfd9e-0dbf-4439-a188-a7bae52a1239\":{\"roots\":{\"references\":[{\"attributes\":{\"below\":[{\"id\":\"8249\",\"type\":\"CategoricalAxis\"}],\"center\":[{\"id\":\"8252\",\"type\":\"Grid\"},{\"id\":\"8256\",\"type\":\"Grid\"}],\"left\":[{\"id\":\"8253\",\"type\":\"CategoricalAxis\"}],\"margin\":null,\"min_border_bottom\":10,\"min_border_left\":10,\"min_border_right\":10,\"min_border_top\":10,\"plot_height\":300,\"plot_width\":500,\"renderers\":[{\"id\":\"8275\",\"type\":\"GlyphRenderer\"}],\"right\":[{\"id\":\"8278\",\"type\":\"ColorBar\"}],\"sizing_mode\":\"fixed\",\"title\":{\"id\":\"8241\",\"type\":\"Title\"},\"toolbar\":{\"id\":\"8262\",\"type\":\"Toolbar\"},\"x_range\":{\"id\":\"8237\",\"type\":\"FactorRange\"},\"x_scale\":{\"id\":\"8245\",\"type\":\"CategoricalScale\"},\"y_range\":{\"id\":\"8238\",\"type\":\"FactorRange\"},\"y_scale\":{\"id\":\"8247\",\"type\":\"CategoricalScale\"}},\"id\":\"8240\",\"subtype\":\"Figure\",\"type\":\"Plot\"},{\"attributes\":{\"callback\":null,\"renderers\":[{\"id\":\"8275\",\"type\":\"GlyphRenderer\"}],\"tooltips\":[[\"type\",\"@{type}\"],[\"Rating\",\"@{Rating}\"],[\"Count\",\"@{Count}\"]]},\"id\":\"8239\",\"type\":\"HoverTool\"},{\"attributes\":{\"fill_color\":{\"field\":\"zvalues\",\"transform\":{\"id\":\"8269\",\"type\":\"LinearColorMapper\"}},\"height\":{\"units\":\"data\",\"value\":1},\"line_alpha\":{\"value\":0},\"line_color\":{\"value\":\"#1f77b4\"},\"width\":{\"units\":\"data\",\"value\":1},\"x\":{\"field\":\"type\"},\"y\":{\"field\":\"Rating\"}},\"id\":\"8273\",\"type\":\"Rect\"},{\"attributes\":{\"fill_alpha\":{\"value\":0.1},\"fill_color\":{\"field\":\"zvalues\",\"transform\":{\"id\":\"8269\",\"type\":\"LinearColorMapper\"}},\"height\":{\"units\":\"data\",\"value\":1},\"line_alpha\":{\"value\":0},\"line_color\":{\"value\":\"#1f77b4\"},\"width\":{\"units\":\"data\",\"value\":1},\"x\":{\"field\":\"type\"},\"y\":{\"field\":\"Rating\"}},\"id\":\"8274\",\"type\":\"Rect\"},{\"attributes\":{\"axis_label\":\"Rating\",\"bounds\":\"auto\",\"formatter\":{\"id\":\"8282\",\"type\":\"CategoricalTickFormatter\"},\"major_label_orientation\":\"horizontal\",\"ticker\":{\"id\":\"8254\",\"type\":\"CategoricalTicker\"}},\"id\":\"8253\",\"type\":\"CategoricalAxis\"},{\"attributes\":{\"data_source\":{\"id\":\"8270\",\"type\":\"ColumnDataSource\"},\"glyph\":{\"id\":\"8273\",\"type\":\"Rect\"},\"hover_glyph\":null,\"muted_glyph\":null,\"nonselection_glyph\":{\"id\":\"8274\",\"type\":\"Rect\"},\"selection_glyph\":null,\"view\":{\"id\":\"8276\",\"type\":\"CDSView\"}},\"id\":\"8275\",\"type\":\"GlyphRenderer\"},{\"attributes\":{\"axis_label\":\"type\",\"bounds\":\"auto\",\"formatter\":{\"id\":\"8280\",\"type\":\"CategoricalTickFormatter\"},\"major_label_orientation\":1.5707963267948966,\"ticker\":{\"id\":\"8250\",\"type\":\"CategoricalTicker\"}},\"id\":\"8249\",\"type\":\"CategoricalAxis\"},{\"attributes\":{\"text\":\"\",\"text_color\":{\"value\":\"black\"},\"text_font_size\":{\"value\":\"12pt\"}},\"id\":\"8241\",\"type\":\"Title\"},{\"attributes\":{\"source\":{\"id\":\"8270\",\"type\":\"ColumnDataSource\"}},\"id\":\"8276\",\"type\":\"CDSView\"},{\"attributes\":{\"grid_line_color\":{\"value\":null},\"ticker\":{\"id\":\"8250\",\"type\":\"CategoricalTicker\"}},\"id\":\"8252\",\"type\":\"Grid\"},{\"attributes\":{},\"id\":\"8254\",\"type\":\"CategoricalTicker\"},{\"attributes\":{},\"id\":\"8277\",\"type\":\"BasicTicker\"},{\"attributes\":{},\"id\":\"8287\",\"type\":\"BasicTickFormatter\"},{\"attributes\":{\"callback\":null,\"factors\":[\"Arabian\",\"German\",\"Russian\",\"Polish\",\"Ukrainian\",\"French\",\"Italian\"],\"tags\":[[[\"type\",\"type\",null]]]},\"id\":\"8237\",\"type\":\"FactorRange\"},{\"attributes\":{\"bottom_units\":\"screen\",\"fill_alpha\":{\"value\":0.5},\"fill_color\":{\"value\":\"lightgrey\"},\"left_units\":\"screen\",\"level\":\"overlay\",\"line_alpha\":{\"value\":1.0},\"line_color\":{\"value\":\"black\"},\"line_dash\":[4,4],\"line_width\":{\"value\":2},\"render_mode\":\"css\",\"right_units\":\"screen\",\"top_units\":\"screen\"},\"id\":\"8290\",\"type\":\"BoxAnnotation\"},{\"attributes\":{\"bar_line_color\":{\"value\":\"black\"},\"color_mapper\":{\"id\":\"8269\",\"type\":\"LinearColorMapper\"},\"formatter\":{\"id\":\"8287\",\"type\":\"BasicTickFormatter\"},\"label_standoff\":8,\"location\":[0,0],\"major_tick_line_color\":{\"value\":\"black\"},\"ticker\":{\"id\":\"8277\",\"type\":\"BasicTicker\"}},\"id\":\"8278\",\"type\":\"ColorBar\"},{\"attributes\":{\"high\":13.0,\"low\":1.0,\"nan_color\":\"white\",\"palette\":[\"#313695\",\"#313896\",\"#323a97\",\"#333d98\",\"#343f99\",\"#34429b\",\"#35449c\",\"#36479d\",\"#37499e\",\"#384c9f\",\"#384ea1\",\"#3951a2\",\"#3a53a3\",\"#3b56a4\",\"#3b58a6\",\"#3c5ba7\",\"#3d5da8\",\"#3e60a9\",\"#3f62aa\",\"#3f64ac\",\"#4067ad\",\"#4169ae\",\"#426caf\",\"#436eb0\",\"#4371b2\",\"#4473b3\",\"#4576b4\",\"#4778b5\",\"#497ab6\",\"#4b7cb7\",\"#4d7eb9\",\"#4f81ba\",\"#5083bb\",\"#5285bc\",\"#5487bd\",\"#5689be\",\"#588cbf\",\"#5a8ec1\",\"#5c90c2\",\"#5d92c3\",\"#5f94c4\",\"#6197c5\",\"#6399c6\",\"#659bc7\",\"#679dc9\",\"#689fca\",\"#6aa2cb\",\"#6ca4cc\",\"#6ea6cd\",\"#70a8ce\",\"#72aacf\",\"#74add1\",\"#76aed1\",\"#78b0d2\",\"#7ab2d3\",\"#7cb3d4\",\"#7eb5d5\",\"#80b7d6\",\"#83b9d7\",\"#85bad8\",\"#87bcd9\",\"#89beda\",\"#8bbfdb\",\"#8dc1dc\",\"#90c3dd\",\"#92c5de\",\"#94c6df\",\"#96c8e0\",\"#98cae1\",\"#9acce1\",\"#9ccde2\",\"#9fcfe3\",\"#a1d1e4\",\"#a3d2e5\",\"#a5d4e6\",\"#a7d6e7\",\"#a9d8e8\",\"#acd9e9\",\"#aedae9\",\"#b0dbea\",\"#b2dceb\",\"#b4ddeb\",\"#b6deec\",\"#b8dfec\",\"#bae0ed\",\"#bce1ed\",\"#bee2ee\",\"#c0e3ef\",\"#c2e4ef\",\"#c4e5f0\",\"#c7e6f0\",\"#c9e7f1\",\"#cbe8f2\",\"#cde9f2\",\"#cfeaf3\",\"#d1ebf3\",\"#d3ecf4\",\"#d5edf5\",\"#d7eef5\",\"#d9eff6\",\"#dbf0f6\",\"#ddf1f7\",\"#e0f3f8\",\"#e1f3f5\",\"#e2f3f3\",\"#e3f4f1\",\"#e4f4ef\",\"#e6f5ec\",\"#e7f5ea\",\"#e8f6e8\",\"#e9f6e6\",\"#eaf7e3\",\"#ecf7e1\",\"#edf8df\",\"#eef8dd\",\"#eff9da\",\"#f1f9d8\",\"#f2fad6\",\"#f3fad4\",\"#f4fbd2\",\"#f5fbcf\",\"#f7fbcd\",\"#f8fccb\",\"#f9fcc9\",\"#fafdc6\",\"#fbfdc4\",\"#fdfec2\",\"#fefec0\",\"#fefebe\",\"#fefdbc\",\"#fefbba\",\"#fefab8\",\"#fef9b6\",\"#fef8b4\",\"#fef7b3\",\"#fef5b1\",\"#fef4af\",\"#fef3ad\",\"#fef2ab\",\"#fef1a9\",\"#feefa7\",\"#feeea6\",\"#feeda4\",\"#feeca2\",\"#feeaa0\",\"#fee99e\",\"#fee89c\",\"#fee79b\",\"#fee699\",\"#fee497\",\"#fee395\",\"#fee293\",\"#fee191\",\"#fee090\",\"#fdde8e\",\"#fddc8c\",\"#fdda8a\",\"#fdd888\",\"#fdd686\",\"#fdd484\",\"#fdd283\",\"#fdd081\",\"#fdce7f\",\"#fdcc7d\",\"#fdca7b\",\"#fdc879\",\"#fdc678\",\"#fdc476\",\"#fdc274\",\"#fdc072\",\"#fdbe70\",\"#fdbc6e\",\"#fdba6c\",\"#fdb86b\",\"#fdb669\",\"#fdb467\",\"#fdb265\",\"#fdb063\",\"#fdae61\",\"#fcac60\",\"#fcaa5f\",\"#fca75e\",\"#fba55c\",\"#fba25b\",\"#fb9f5a\",\"#fa9d59\",\"#fa9a58\",\"#fa9857\",\"#f99555\",\"#f99354\",\"#f89053\",\"#f88e52\",\"#f88b51\",\"#f7894f\",\"#f7864e\",\"#f7834d\",\"#f6814c\",\"#f67e4b\",\"#f67c4a\",\"#f57948\",\"#f57747\",\"#f57446\",\"#f47245\",\"#f46f44\",\"#f46d43\",\"#f26a41\",\"#f16840\",\"#f0653f\",\"#ef633e\",\"#ee613d\",\"#ed5e3c\",\"#ec5c3b\",\"#ea593a\",\"#e95739\",\"#e85538\",\"#e75236\",\"#e65035\",\"#e54d34\",\"#e44b33\",\"#e24932\",\"#e14631\",\"#e04430\",\"#df412f\",\"#de3f2e\",\"#dd3d2d\",\"#dc3a2b\",\"#da382a\",\"#d93529\",\"#d83328\",\"#d73127\",\"#d62f26\",\"#d42d26\",\"#d22b26\",\"#d02926\",\"#ce2726\",\"#cc2526\",\"#ca2326\",\"#c82126\",\"#c62026\",\"#c41e26\",\"#c21c26\",\"#c01a26\",\"#be1826\",\"#bc1626\",\"#ba1426\",\"#b81226\",\"#b61026\",\"#b40f26\",\"#b20d26\",\"#b00b26\",\"#ae0926\",\"#ac0726\",\"#aa0526\",\"#a80326\",\"#a60126\",\"#a50026\"]},\"id\":\"8269\",\"type\":\"LinearColorMapper\"},{\"attributes\":{\"overlay\":{\"id\":\"8290\",\"type\":\"BoxAnnotation\"}},\"id\":\"8260\",\"type\":\"BoxZoomTool\"},{\"attributes\":{},\"id\":\"8292\",\"type\":\"UnionRenderers\"},{\"attributes\":{},\"id\":\"8261\",\"type\":\"ResetTool\"},{\"attributes\":{\"callback\":null,\"data\":{\"Count\":[\"3\",\"1\",\"-\",\"-\",\"2\",\"1\",\"-\",\"-\",\"1\",\"-\",\"6\",\"8\",\"4\",\"1\",\"-\",\"-\",\"2\",\"2\",\"9\",\"6\",\"1\",\"-\",\"-\",\"-\",\"3\",\"7\",\"8\",\"2\",\"-\",\"-\",\"-\",\"1\",\"2\",\"2\",\"-\",\"-\",\"-\",\"-\",\"-\",\"10\",\"9\",\"1\",\"-\",\"-\",\"-\",\"-\",\"13\",\"7\",\"-\"],\"Rating\":[\"2\",\"2.5\",\"3\",\"3.5\",\"4\",\"4.5\",\"5\",\"2\",\"2.5\",\"3\",\"3.5\",\"4\",\"4.5\",\"5\",\"2\",\"2.5\",\"3\",\"3.5\",\"4\",\"4.5\",\"5\",\"2\",\"2.5\",\"3\",\"3.5\",\"4\",\"4.5\",\"5\",\"2\",\"2.5\",\"3\",\"3.5\",\"4\",\"4.5\",\"5\",\"2\",\"2.5\",\"3\",\"3.5\",\"4\",\"4.5\",\"5\",\"2\",\"2.5\",\"3\",\"3.5\",\"4\",\"4.5\",\"5\"],\"type\":[\"Arabian\",\"Arabian\",\"Arabian\",\"Arabian\",\"Arabian\",\"Arabian\",\"Arabian\",\"German\",\"German\",\"German\",\"German\",\"German\",\"German\",\"German\",\"Russian\",\"Russian\",\"Russian\",\"Russian\",\"Russian\",\"Russian\",\"Russian\",\"Polish\",\"Polish\",\"Polish\",\"Polish\",\"Polish\",\"Polish\",\"Polish\",\"Ukrainian\",\"Ukrainian\",\"Ukrainian\",\"Ukrainian\",\"Ukrainian\",\"Ukrainian\",\"Ukrainian\",\"French\",\"French\",\"French\",\"French\",\"French\",\"French\",\"French\",\"Italian\",\"Italian\",\"Italian\",\"Italian\",\"Italian\",\"Italian\",\"Italian\"],\"zvalues\":{\"__ndarray__\":\"AAAAAAAACEAAAAAAAADwPwAAAAAAAPh/AAAAAAAA+H8AAAAAAAAAQAAAAAAAAPA/AAAAAAAA+H8AAAAAAAD4fwAAAAAAAPA/AAAAAAAA+H8AAAAAAAAYQAAAAAAAACBAAAAAAAAAEEAAAAAAAADwPwAAAAAAAPh/AAAAAAAA+H8AAAAAAAAAQAAAAAAAAABAAAAAAAAAIkAAAAAAAAAYQAAAAAAAAPA/AAAAAAAA+H8AAAAAAAD4fwAAAAAAAPh/AAAAAAAACEAAAAAAAAAcQAAAAAAAACBAAAAAAAAAAEAAAAAAAAD4fwAAAAAAAPh/AAAAAAAA+H8AAAAAAADwPwAAAAAAAABAAAAAAAAAAEAAAAAAAAD4fwAAAAAAAPh/AAAAAAAA+H8AAAAAAAD4fwAAAAAAAPh/AAAAAAAAJEAAAAAAAAAiQAAAAAAAAPA/AAAAAAAA+H8AAAAAAAD4fwAAAAAAAPh/AAAAAAAA+H8AAAAAAAAqQAAAAAAAABxAAAAAAAAA+H8=\",\"dtype\":\"float64\",\"shape\":[49]}},\"selected\":{\"id\":\"8271\",\"type\":\"Selection\"},\"selection_policy\":{\"id\":\"8292\",\"type\":\"UnionRenderers\"}},\"id\":\"8270\",\"type\":\"ColumnDataSource\"},{\"attributes\":{},\"id\":\"8245\",\"type\":\"CategoricalScale\"},{\"attributes\":{},\"id\":\"8280\",\"type\":\"CategoricalTickFormatter\"},{\"attributes\":{\"callback\":null,\"factors\":[\"2\",\"2.5\",\"3\",\"3.5\",\"4\",\"4.5\",\"5\"],\"tags\":[[[\"Rating\",\"Rating\",null]]]},\"id\":\"8238\",\"type\":\"FactorRange\"},{\"attributes\":{},\"id\":\"8250\",\"type\":\"CategoricalTicker\"},{\"attributes\":{\"dimension\":1,\"grid_line_color\":{\"value\":null},\"ticker\":{\"id\":\"8254\",\"type\":\"CategoricalTicker\"}},\"id\":\"8256\",\"type\":\"Grid\"},{\"attributes\":{},\"id\":\"8282\",\"type\":\"CategoricalTickFormatter\"},{\"attributes\":{},\"id\":\"8247\",\"type\":\"CategoricalScale\"},{\"attributes\":{},\"id\":\"8259\",\"type\":\"WheelZoomTool\"},{\"attributes\":{\"active_drag\":\"auto\",\"active_inspect\":\"auto\",\"active_multi\":null,\"active_scroll\":\"auto\",\"active_tap\":\"auto\",\"tools\":[{\"id\":\"8239\",\"type\":\"HoverTool\"},{\"id\":\"8257\",\"type\":\"SaveTool\"},{\"id\":\"8258\",\"type\":\"PanTool\"},{\"id\":\"8259\",\"type\":\"WheelZoomTool\"},{\"id\":\"8260\",\"type\":\"BoxZoomTool\"},{\"id\":\"8261\",\"type\":\"ResetTool\"}]},\"id\":\"8262\",\"type\":\"Toolbar\"},{\"attributes\":{},\"id\":\"8257\",\"type\":\"SaveTool\"},{\"attributes\":{},\"id\":\"8258\",\"type\":\"PanTool\"},{\"attributes\":{},\"id\":\"8271\",\"type\":\"Selection\"}],\"root_ids\":[\"8240\"]},\"title\":\"Bokeh Application\",\"version\":\"1.1.0\"}};\n",
       "  var render_items = [{\"docid\":\"a65dfd9e-0dbf-4439-a188-a7bae52a1239\",\"roots\":{\"8240\":\"361bd2ae-390b-4fc6-a6fc-143ae302201c\"}}];\n",
       "  root.Bokeh.embed.embed_items_notebook(docs_json, render_items);\n",
       "\n",
       "  }\n",
       "  if (root.Bokeh !== undefined) {\n",
       "    embed_document(root);\n",
       "  } else {\n",
       "    var attempts = 0;\n",
       "    var timer = setInterval(function(root) {\n",
       "      if (root.Bokeh !== undefined) {\n",
       "        embed_document(root);\n",
       "        clearInterval(timer);\n",
       "      }\n",
       "      attempts++;\n",
       "      if (attempts > 100) {\n",
       "        console.log(\"Bokeh: ERROR: Unable to run BokehJS code because BokehJS library is missing\");\n",
       "        clearInterval(timer);\n",
       "      }\n",
       "    }, 10, root)\n",
       "  }\n",
       "})(window);"
      ],
      "application/vnd.holoviews_exec.v0+json": "",
      "text/html": [
       "<div id='8240' style='display: table; margin: 0 auto;'>\n",
       "\n",
       "\n",
       "\n",
       "\n",
       "\n",
       "  <div class=\"bk-root\" id=\"361bd2ae-390b-4fc6-a6fc-143ae302201c\" data-root-id=\"8240\"></div>\n",
       "</div>"
      ],
      "text/plain": [
       ":HeatMap   [type,Rating]   (Count)"
      ]
     },
     "execution_count": 168,
     "metadata": {
      "application/vnd.holoviews_exec.v0+json": {
       "id": "8240"
      }
     },
     "output_type": "execute_result"
    }
   ],
   "source": [
    "heatmap = Res2.hvplot.heatmap(x='type', y='rating', C='Count',\n",
    "                height=300, width=500, flip_yaxis=False, rot=90)\n",
    "heatmap.redim(rating='Rating')"
   ]
  },
  {
   "cell_type": "code",
   "execution_count": 169,
   "metadata": {},
   "outputs": [],
   "source": [
    "hvplot.save(heatmap, 'Res_Rating_heatmap.html')"
   ]
  },
  {
   "cell_type": "code",
   "execution_count": 170,
   "metadata": {},
   "outputs": [
    {
     "data": {
      "text/html": [
       "<div>\n",
       "<style scoped>\n",
       "    .dataframe tbody tr th:only-of-type {\n",
       "        vertical-align: middle;\n",
       "    }\n",
       "\n",
       "    .dataframe tbody tr th {\n",
       "        vertical-align: top;\n",
       "    }\n",
       "\n",
       "    .dataframe thead th {\n",
       "        text-align: right;\n",
       "    }\n",
       "</style>\n",
       "<table border=\"1\" class=\"dataframe\">\n",
       "  <thead>\n",
       "    <tr style=\"text-align: right;\">\n",
       "      <th></th>\n",
       "      <th>price</th>\n",
       "      <th>type</th>\n",
       "      <th>Count</th>\n",
       "    </tr>\n",
       "  </thead>\n",
       "  <tbody>\n",
       "    <tr>\n",
       "      <th>0</th>\n",
       "      <td>$</td>\n",
       "      <td>Arabian</td>\n",
       "      <td>1</td>\n",
       "    </tr>\n",
       "    <tr>\n",
       "      <th>1</th>\n",
       "      <td>$</td>\n",
       "      <td>Polish</td>\n",
       "      <td>5</td>\n",
       "    </tr>\n",
       "    <tr>\n",
       "      <th>2</th>\n",
       "      <td>$</td>\n",
       "      <td>Russian</td>\n",
       "      <td>2</td>\n",
       "    </tr>\n",
       "    <tr>\n",
       "      <th>3</th>\n",
       "      <td>$</td>\n",
       "      <td>Ukrainian</td>\n",
       "      <td>2</td>\n",
       "    </tr>\n",
       "    <tr>\n",
       "      <th>4</th>\n",
       "      <td>$$</td>\n",
       "      <td>Arabian</td>\n",
       "      <td>5</td>\n",
       "    </tr>\n",
       "  </tbody>\n",
       "</table>\n",
       "</div>"
      ],
      "text/plain": [
       "  price       type  Count\n",
       "0     $    Arabian      1\n",
       "1     $     Polish      5\n",
       "2     $    Russian      2\n",
       "3     $  Ukrainian      2\n",
       "4    $$    Arabian      5"
      ]
     },
     "execution_count": 170,
     "metadata": {},
     "output_type": "execute_result"
    }
   ],
   "source": [
    "Res3 = allRes.groupby(['price', 'type'])['Count'].sum().reset_index()\n",
    "Res3.head()"
   ]
  },
  {
   "cell_type": "code",
   "execution_count": 171,
   "metadata": {},
   "outputs": [],
   "source": [
    "import holoviews as hv\n",
    "PriceChart = Res3.hvplot(x='price', col='type', \n",
    "                  kind='line', width=200, \n",
    "                  height=150, rot=90)"
   ]
  },
  {
   "cell_type": "code",
   "execution_count": 172,
   "metadata": {},
   "outputs": [
    {
     "name": "stderr",
     "output_type": "stream",
     "text": [
      "WARNING:bokeh.core.validation.check:W-1000 (MISSING_RENDERERS): Plot has no renderers: Figure(id='8864', ...)\n"
     ]
    }
   ],
   "source": [
    "hvplot.save(PriceChart, 'PriceChart.html')"
   ]
  },
  {
   "cell_type": "code",
   "execution_count": 173,
   "metadata": {},
   "outputs": [
    {
     "name": "stderr",
     "output_type": "stream",
     "text": [
      "WARNING:bokeh.core.validation.check:W-1000 (MISSING_RENDERERS): Plot has no renderers: Figure(id='10254', ...)\n"
     ]
    },
    {
     "data": {
      "application/javascript": [
       "\n",
       "// Ugly hack - see HoloViews #2574 for more information\n",
       "if (!(document.getElementById('10271')) && !(document.getElementById('_anim_imgNone'))) {\n",
       "  console.log(\"Creating DOM nodes dynamically for assumed nbconvert export. To generate clean HTML output set HV_DOC_HTML as an environment variable.\")\n",
       "  var htmlObject = document.createElement('div');\n",
       "  htmlObject.innerHTML = `<div id='10271' style='display: table; margin: 0 auto;'>\n",
       "\n",
       "\n",
       "\n",
       "\n",
       "\n",
       "  <div class=\"bk-root\" id=\"a693ac71-2fa5-4fb8-8582-ad60cf15a7d7\" data-root-id=\"10271\"></div>\n",
       "</div>`;\n",
       "  var scriptTags = document.getElementsByTagName('script');\n",
       "  var parentTag = scriptTags[scriptTags.length-1].parentNode;\n",
       "  if (parentTag.attributes.length && (parentTag.attributes[0].name == 'data-shell-mode')) {\n",
       "    alert('Displaying PyViz objects in JupyterLab requires the jupyterlab_pyviz extension to be installed, install it with:\\n\\n\\tjupyter labextension install @pyviz/jupyterlab_pyviz');\n",
       "  } else {\n",
       "    parentTag.append(htmlObject)\n",
       "  }\n",
       "}\n",
       "(function(root) {\n",
       "  function embed_document(root) {\n",
       "    \n",
       "  var docs_json = {\"6ea5f124-ce48-44d5-9826-4806930c326e\":{\"roots\":{\"references\":[{\"attributes\":{\"children\":[{\"id\":\"10254\",\"subtype\":\"Figure\",\"type\":\"Plot\"},{\"id\":\"10250\",\"type\":\"Column\"}]},\"id\":\"10271\",\"type\":\"Column\"},{\"attributes\":{\"callback\":null,\"data\":{\"Count\":[13,4,3],\"price\":[\"$$\",\"$$$\",\"$$$$\"]},\"selected\":{\"id\":\"10085\",\"type\":\"Selection\"},\"selection_policy\":{\"id\":\"10227\",\"type\":\"UnionRenderers\"}},\"id\":\"10084\",\"type\":\"ColumnDataSource\"},{\"attributes\":{\"text\":\"\",\"text_color\":{\"value\":\"black\"},\"text_font_size\":{\"value\":\"12pt\"}},\"id\":\"10272\",\"type\":\"Title\"},{\"attributes\":{\"below\":[{\"id\":\"10063\",\"type\":\"CategoricalAxis\"}],\"center\":[{\"id\":\"10066\",\"type\":\"Grid\"},{\"id\":\"10071\",\"type\":\"Grid\"}],\"frame_height\":120,\"frame_width\":120,\"left\":[{\"id\":\"10067\",\"type\":\"LinearAxis\"}],\"margin\":null,\"min_border_bottom\":3,\"min_border_left\":3,\"min_border_right\":3,\"min_border_top\":3,\"plot_height\":null,\"plot_width\":null,\"renderers\":[{\"id\":\"10090\",\"type\":\"GlyphRenderer\"}],\"sizing_mode\":\"fixed\",\"title\":{\"id\":\"10055\",\"type\":\"Title\"},\"toolbar\":{\"id\":\"10077\",\"type\":\"Toolbar\"},\"toolbar_location\":null,\"x_range\":{\"id\":\"10052\",\"type\":\"FactorRange\"},\"x_scale\":{\"id\":\"10059\",\"type\":\"CategoricalScale\"},\"y_range\":{\"id\":\"9876\",\"type\":\"Range1d\"},\"y_scale\":{\"id\":\"10061\",\"type\":\"LinearScale\"}},\"id\":\"10054\",\"subtype\":\"Figure\",\"type\":\"Plot\"},{\"attributes\":{\"callback\":null,\"renderers\":[{\"id\":\"10178\",\"type\":\"GlyphRenderer\"}],\"tooltips\":[[\"price\",\"@{price}\"],[\"Count\",\"@{Count}\"]]},\"id\":\"10141\",\"type\":\"HoverTool\"},{\"attributes\":{\"callback\":null,\"factors\":[\"$$\",\"$$$\"],\"tags\":[[[\"price\",\"price\",null]]]},\"id\":\"10140\",\"type\":\"FactorRange\"},{\"attributes\":{\"line_alpha\":0.2,\"line_color\":\"#1f77b4\",\"line_width\":2,\"x\":{\"field\":\"price\"},\"y\":{\"field\":\"Count\"}},\"id\":\"10133\",\"type\":\"Line\"},{\"attributes\":{},\"id\":\"10156\",\"type\":\"BasicTicker\"},{\"attributes\":{\"dimension\":1,\"grid_line_color\":{\"value\":null},\"ticker\":{\"id\":\"10156\",\"type\":\"BasicTicker\"}},\"id\":\"10159\",\"type\":\"Grid\"},{\"attributes\":{\"data_source\":{\"id\":\"10128\",\"type\":\"ColumnDataSource\"},\"glyph\":{\"id\":\"10131\",\"type\":\"Line\"},\"hover_glyph\":null,\"muted_glyph\":{\"id\":\"10133\",\"type\":\"Line\"},\"nonselection_glyph\":{\"id\":\"10132\",\"type\":\"Line\"},\"selection_glyph\":null,\"view\":{\"id\":\"10135\",\"type\":\"CDSView\"}},\"id\":\"10134\",\"type\":\"GlyphRenderer\"},{\"attributes\":{\"bottom_units\":\"screen\",\"fill_alpha\":{\"value\":0.5},\"fill_color\":{\"value\":\"lightgrey\"},\"left_units\":\"screen\",\"level\":\"overlay\",\"line_alpha\":{\"value\":1.0},\"line_color\":{\"value\":\"black\"},\"line_dash\":[4,4],\"line_width\":{\"value\":2},\"render_mode\":\"css\",\"right_units\":\"screen\",\"top_units\":\"screen\"},\"id\":\"10243\",\"type\":\"BoxAnnotation\"},{\"attributes\":{},\"id\":\"10059\",\"type\":\"CategoricalScale\"},{\"attributes\":{},\"id\":\"10048\",\"type\":\"CategoricalTickFormatter\"},{\"attributes\":{\"callback\":null,\"end\":18.0,\"reset_end\":18.0,\"reset_start\":1.0,\"start\":1.0,\"tags\":[[[\"Count\",\"Count\",null]]]},\"id\":\"9876\",\"type\":\"Range1d\"},{\"attributes\":{\"bottom_units\":\"screen\",\"fill_alpha\":{\"value\":0.5},\"fill_color\":{\"value\":\"lightgrey\"},\"left_units\":\"screen\",\"level\":\"overlay\",\"line_alpha\":{\"value\":1.0},\"line_color\":{\"value\":\"black\"},\"line_dash\":[4,4],\"line_width\":{\"value\":2},\"render_mode\":\"css\",\"right_units\":\"screen\",\"top_units\":\"screen\"},\"id\":\"10189\",\"type\":\"BoxAnnotation\"},{\"attributes\":{},\"id\":\"10173\",\"type\":\"Selection\"},{\"attributes\":{\"callback\":null,\"factors\":[\"$\",\"$$\"],\"tags\":[[[\"price\",\"price\",null]]]},\"id\":\"10008\",\"type\":\"FactorRange\"},{\"attributes\":{\"callback\":null,\"factors\":[\"$\",\"$$\"],\"tags\":[[[\"price\",\"price\",null]]]},\"id\":\"9875\",\"type\":\"FactorRange\"},{\"attributes\":{\"active_drag\":\"auto\",\"active_inspect\":\"auto\",\"active_multi\":null,\"active_scroll\":\"auto\",\"active_tap\":\"auto\",\"tools\":[{\"id\":\"10141\",\"type\":\"HoverTool\"},{\"id\":\"10160\",\"type\":\"SaveTool\"},{\"id\":\"10161\",\"type\":\"PanTool\"},{\"id\":\"10162\",\"type\":\"WheelZoomTool\"},{\"id\":\"10163\",\"type\":\"BoxZoomTool\"},{\"id\":\"10164\",\"type\":\"ResetTool\"}]},\"id\":\"10165\",\"type\":\"Toolbar\"},{\"attributes\":{},\"id\":\"10051\",\"type\":\"BasicTickFormatter\"},{\"attributes\":{},\"id\":\"10245\",\"type\":\"UnionRenderers\"},{\"attributes\":{},\"id\":\"10160\",\"type\":\"SaveTool\"},{\"attributes\":{\"bottom_units\":\"screen\",\"fill_alpha\":{\"value\":0.5},\"fill_color\":{\"value\":\"lightgrey\"},\"left_units\":\"screen\",\"level\":\"overlay\",\"line_alpha\":{\"value\":1.0},\"line_color\":{\"value\":\"black\"},\"line_dash\":[4,4],\"line_width\":{\"value\":2},\"render_mode\":\"css\",\"right_units\":\"screen\",\"top_units\":\"screen\"},\"id\":\"10234\",\"type\":\"BoxAnnotation\"},{\"attributes\":{},\"id\":\"9960\",\"type\":\"CategoricalTickFormatter\"},{\"attributes\":{},\"id\":\"10275\",\"type\":\"CategoricalTickFormatter\"},{\"attributes\":{\"below\":[{\"id\":\"10107\",\"type\":\"CategoricalAxis\"}],\"center\":[{\"id\":\"10110\",\"type\":\"Grid\"},{\"id\":\"10115\",\"type\":\"Grid\"}],\"frame_height\":120,\"frame_width\":120,\"left\":[{\"id\":\"10111\",\"type\":\"LinearAxis\"}],\"margin\":null,\"min_border_bottom\":3,\"min_border_left\":3,\"min_border_right\":3,\"min_border_top\":3,\"plot_height\":null,\"plot_width\":null,\"renderers\":[{\"id\":\"10134\",\"type\":\"GlyphRenderer\"}],\"sizing_mode\":\"fixed\",\"title\":{\"id\":\"10099\",\"type\":\"Title\"},\"toolbar\":{\"id\":\"10121\",\"type\":\"Toolbar\"},\"toolbar_location\":null,\"x_range\":{\"id\":\"10096\",\"type\":\"FactorRange\"},\"x_scale\":{\"id\":\"10103\",\"type\":\"CategoricalScale\"},\"y_range\":{\"id\":\"9876\",\"type\":\"Range1d\"},\"y_scale\":{\"id\":\"10105\",\"type\":\"LinearScale\"}},\"id\":\"10098\",\"subtype\":\"Figure\",\"type\":\"Plot\"},{\"attributes\":{\"callback\":null,\"renderers\":[{\"id\":\"9914\",\"type\":\"GlyphRenderer\"}],\"tooltips\":[[\"price\",\"@{price}\"],[\"Count\",\"@{Count}\"]]},\"id\":\"9877\",\"type\":\"HoverTool\"},{\"attributes\":{},\"id\":\"10161\",\"type\":\"PanTool\"},{\"attributes\":{\"grid_line_color\":{\"value\":null},\"ticker\":{\"id\":\"9888\",\"type\":\"CategoricalTicker\"}},\"id\":\"9890\",\"type\":\"Grid\"},{\"attributes\":{\"text\":\"\",\"text_color\":{\"value\":\"black\"},\"text_font_size\":{\"value\":\"12pt\"}},\"id\":\"9879\",\"type\":\"Title\"},{\"attributes\":{\"callback\":null,\"data\":{\"Count\":[5,13,1],\"price\":[\"$\",\"$$\",\"$$$$\"]},\"selected\":{\"id\":\"9953\",\"type\":\"Selection\"},\"selection_policy\":{\"id\":\"10200\",\"type\":\"UnionRenderers\"}},\"id\":\"9952\",\"type\":\"ColumnDataSource\"},{\"attributes\":{\"callback\":null,\"renderers\":[{\"id\":\"10046\",\"type\":\"GlyphRenderer\"}],\"tooltips\":[[\"price\",\"@{price}\"],[\"Count\",\"@{Count}\"]]},\"id\":\"10009\",\"type\":\"HoverTool\"},{\"attributes\":{},\"id\":\"10162\",\"type\":\"WheelZoomTool\"},{\"attributes\":{},\"id\":\"9883\",\"type\":\"CategoricalScale\"},{\"attributes\":{\"text\":\"\",\"text_color\":{\"value\":\"black\"},\"text_font_size\":{\"value\":\"12pt\"}},\"id\":\"10055\",\"type\":\"Title\"},{\"attributes\":{\"text\":\"\",\"text_color\":{\"value\":\"black\"},\"text_font_size\":{\"value\":\"12pt\"}},\"id\":\"10099\",\"type\":\"Title\"},{\"attributes\":{\"line_alpha\":0.2,\"line_color\":\"#1f77b4\",\"line_width\":2,\"x\":{\"field\":\"price\"},\"y\":{\"field\":\"Count\"}},\"id\":\"9957\",\"type\":\"Line\"},{\"attributes\":{\"line_alpha\":0.1,\"line_color\":\"#1f77b4\",\"line_width\":2,\"x\":{\"field\":\"price\"},\"y\":{\"field\":\"Count\"}},\"id\":\"9956\",\"type\":\"Line\"},{\"attributes\":{\"overlay\":{\"id\":\"10243\",\"type\":\"BoxAnnotation\"}},\"id\":\"10163\",\"type\":\"BoxZoomTool\"},{\"attributes\":{\"axis_label\":\"price\",\"bounds\":\"auto\",\"formatter\":{\"id\":\"10092\",\"type\":\"CategoricalTickFormatter\"},\"major_label_orientation\":1.5707963267948966,\"ticker\":{\"id\":\"10064\",\"type\":\"CategoricalTicker\"}},\"id\":\"10063\",\"type\":\"CategoricalAxis\"},{\"attributes\":{},\"id\":\"10103\",\"type\":\"CategoricalScale\"},{\"attributes\":{\"overlay\":{\"id\":\"10198\",\"type\":\"BoxAnnotation\"}},\"id\":\"9943\",\"type\":\"BoxZoomTool\"},{\"attributes\":{},\"id\":\"9944\",\"type\":\"ResetTool\"},{\"attributes\":{},\"id\":\"10164\",\"type\":\"ResetTool\"},{\"attributes\":{},\"id\":\"10105\",\"type\":\"LinearScale\"},{\"attributes\":{},\"id\":\"10120\",\"type\":\"ResetTool\"},{\"attributes\":{},\"id\":\"9916\",\"type\":\"CategoricalTickFormatter\"},{\"attributes\":{\"source\":{\"id\":\"10128\",\"type\":\"ColumnDataSource\"}},\"id\":\"10135\",\"type\":\"CDSView\"},{\"attributes\":{},\"id\":\"9940\",\"type\":\"SaveTool\"},{\"attributes\":{\"axis_label\":\"price\",\"bounds\":\"auto\",\"formatter\":{\"id\":\"10136\",\"type\":\"CategoricalTickFormatter\"},\"major_label_orientation\":1.5707963267948966,\"ticker\":{\"id\":\"10108\",\"type\":\"CategoricalTicker\"}},\"id\":\"10107\",\"type\":\"CategoricalAxis\"},{\"attributes\":{},\"id\":\"9941\",\"type\":\"PanTool\"},{\"attributes\":{},\"id\":\"9942\",\"type\":\"WheelZoomTool\"},{\"attributes\":{},\"id\":\"9888\",\"type\":\"CategoricalTicker\"},{\"attributes\":{},\"id\":\"10108\",\"type\":\"CategoricalTicker\"},{\"attributes\":{\"active_drag\":\"auto\",\"active_inspect\":\"auto\",\"active_multi\":null,\"active_scroll\":\"auto\",\"active_tap\":\"auto\",\"tools\":[{\"id\":\"9921\",\"type\":\"HoverTool\"},{\"id\":\"9940\",\"type\":\"SaveTool\"},{\"id\":\"9941\",\"type\":\"PanTool\"},{\"id\":\"9942\",\"type\":\"WheelZoomTool\"},{\"id\":\"9943\",\"type\":\"BoxZoomTool\"},{\"id\":\"9944\",\"type\":\"ResetTool\"}]},\"id\":\"9945\",\"type\":\"Toolbar\"},{\"attributes\":{\"line_color\":\"#1f77b4\",\"line_width\":2,\"x\":{\"field\":\"price\"},\"y\":{\"field\":\"Count\"}},\"id\":\"10175\",\"type\":\"Line\"},{\"attributes\":{\"grid_line_color\":{\"value\":null},\"ticker\":{\"id\":\"10108\",\"type\":\"CategoricalTicker\"}},\"id\":\"10110\",\"type\":\"Grid\"},{\"attributes\":{},\"id\":\"10076\",\"type\":\"ResetTool\"},{\"attributes\":{\"line_alpha\":0.1,\"line_color\":\"#1f77b4\",\"line_width\":2,\"x\":{\"field\":\"price\"},\"y\":{\"field\":\"Count\"}},\"id\":\"10176\",\"type\":\"Line\"},{\"attributes\":{\"axis_label\":\"Count\",\"bounds\":\"auto\",\"formatter\":{\"id\":\"10139\",\"type\":\"BasicTickFormatter\"},\"major_label_orientation\":\"horizontal\",\"ticker\":{\"id\":\"10112\",\"type\":\"BasicTicker\"},\"visible\":false},\"id\":\"10111\",\"type\":\"LinearAxis\"},{\"attributes\":{},\"id\":\"9892\",\"type\":\"BasicTicker\"},{\"attributes\":{\"line_alpha\":0.2,\"line_color\":\"#1f77b4\",\"line_width\":2,\"x\":{\"field\":\"price\"},\"y\":{\"field\":\"Count\"}},\"id\":\"10177\",\"type\":\"Line\"},{\"attributes\":{\"grid_line_color\":{\"value\":null},\"ticker\":{\"id\":\"10064\",\"type\":\"CategoricalTicker\"}},\"id\":\"10066\",\"type\":\"Grid\"},{\"attributes\":{},\"id\":\"10112\",\"type\":\"BasicTicker\"},{\"attributes\":{},\"id\":\"10257\",\"type\":\"CategoricalScale\"},{\"attributes\":{\"data_source\":{\"id\":\"10172\",\"type\":\"ColumnDataSource\"},\"glyph\":{\"id\":\"10175\",\"type\":\"Line\"},\"hover_glyph\":null,\"muted_glyph\":{\"id\":\"10177\",\"type\":\"Line\"},\"nonselection_glyph\":{\"id\":\"10176\",\"type\":\"Line\"},\"selection_glyph\":null,\"view\":{\"id\":\"10179\",\"type\":\"CDSView\"}},\"id\":\"10178\",\"type\":\"GlyphRenderer\"},{\"attributes\":{\"args\":{\"range\":{\"id\":\"10251\",\"type\":\"FactorRange\"}},\"code\":\"range.setv({start: 0, end: range.factors.length})\"},\"id\":\"10253\",\"type\":\"CustomJS\"},{\"attributes\":{\"dimension\":1,\"grid_line_color\":{\"value\":null},\"ticker\":{\"id\":\"10112\",\"type\":\"BasicTicker\"}},\"id\":\"10115\",\"type\":\"Grid\"},{\"attributes\":{},\"id\":\"10136\",\"type\":\"CategoricalTickFormatter\"},{\"attributes\":{\"source\":{\"id\":\"10172\",\"type\":\"ColumnDataSource\"}},\"id\":\"10179\",\"type\":\"CDSView\"},{\"attributes\":{},\"id\":\"10085\",\"type\":\"Selection\"},{\"attributes\":{},\"id\":\"10139\",\"type\":\"BasicTickFormatter\"},{\"attributes\":{},\"id\":\"10068\",\"type\":\"BasicTicker\"},{\"attributes\":{\"callback\":null,\"renderers\":[{\"id\":\"10002\",\"type\":\"GlyphRenderer\"}],\"tooltips\":[[\"price\",\"@{price}\"],[\"Count\",\"@{Count}\"]]},\"id\":\"9965\",\"type\":\"HoverTool\"},{\"attributes\":{},\"id\":\"10236\",\"type\":\"UnionRenderers\"},{\"attributes\":{\"axis_label\":\"price\",\"bounds\":\"auto\",\"formatter\":{\"id\":\"9916\",\"type\":\"CategoricalTickFormatter\"},\"major_label_orientation\":1.5707963267948966,\"ticker\":{\"id\":\"9888\",\"type\":\"CategoricalTicker\"}},\"id\":\"9887\",\"type\":\"CategoricalAxis\"},{\"attributes\":{\"tools\":[{\"id\":\"9877\",\"type\":\"HoverTool\"},{\"id\":\"9896\",\"type\":\"SaveTool\"},{\"id\":\"9897\",\"type\":\"PanTool\"},{\"id\":\"9898\",\"type\":\"WheelZoomTool\"},{\"id\":\"9899\",\"type\":\"BoxZoomTool\"},{\"id\":\"9900\",\"type\":\"ResetTool\"},{\"id\":\"9921\",\"type\":\"HoverTool\"},{\"id\":\"9940\",\"type\":\"SaveTool\"},{\"id\":\"9941\",\"type\":\"PanTool\"},{\"id\":\"9942\",\"type\":\"WheelZoomTool\"},{\"id\":\"9943\",\"type\":\"BoxZoomTool\"},{\"id\":\"9944\",\"type\":\"ResetTool\"},{\"id\":\"9965\",\"type\":\"HoverTool\"},{\"id\":\"9984\",\"type\":\"SaveTool\"},{\"id\":\"9985\",\"type\":\"PanTool\"},{\"id\":\"9986\",\"type\":\"WheelZoomTool\"},{\"id\":\"9987\",\"type\":\"BoxZoomTool\"},{\"id\":\"9988\",\"type\":\"ResetTool\"},{\"id\":\"10009\",\"type\":\"HoverTool\"},{\"id\":\"10028\",\"type\":\"SaveTool\"},{\"id\":\"10029\",\"type\":\"PanTool\"},{\"id\":\"10030\",\"type\":\"WheelZoomTool\"},{\"id\":\"10031\",\"type\":\"BoxZoomTool\"},{\"id\":\"10032\",\"type\":\"ResetTool\"},{\"id\":\"10053\",\"type\":\"HoverTool\"},{\"id\":\"10072\",\"type\":\"SaveTool\"},{\"id\":\"10073\",\"type\":\"PanTool\"},{\"id\":\"10074\",\"type\":\"WheelZoomTool\"},{\"id\":\"10075\",\"type\":\"BoxZoomTool\"},{\"id\":\"10076\",\"type\":\"ResetTool\"},{\"id\":\"10097\",\"type\":\"HoverTool\"},{\"id\":\"10116\",\"type\":\"SaveTool\"},{\"id\":\"10117\",\"type\":\"PanTool\"},{\"id\":\"10118\",\"type\":\"WheelZoomTool\"},{\"id\":\"10119\",\"type\":\"BoxZoomTool\"},{\"id\":\"10120\",\"type\":\"ResetTool\"},{\"id\":\"10141\",\"type\":\"HoverTool\"},{\"id\":\"10160\",\"type\":\"SaveTool\"},{\"id\":\"10161\",\"type\":\"PanTool\"},{\"id\":\"10162\",\"type\":\"WheelZoomTool\"},{\"id\":\"10163\",\"type\":\"BoxZoomTool\"},{\"id\":\"10164\",\"type\":\"ResetTool\"}]},\"id\":\"10248\",\"type\":\"ProxyToolbar\"},{\"attributes\":{\"callback\":null,\"factors\":[\"$\",\"$$\",\"$$$\",\"$$$$\"],\"tags\":[[[\"price\",\"price\",null]]]},\"id\":\"9964\",\"type\":\"FactorRange\"},{\"attributes\":{\"axis_label\":\"Count\",\"bounds\":\"auto\",\"formatter\":{\"id\":\"9919\",\"type\":\"BasicTickFormatter\"},\"major_label_orientation\":\"horizontal\",\"ticker\":{\"id\":\"9892\",\"type\":\"BasicTicker\"}},\"id\":\"9891\",\"type\":\"LinearAxis\"},{\"attributes\":{},\"id\":\"10116\",\"type\":\"SaveTool\"},{\"attributes\":{\"line_color\":\"#1f77b4\",\"line_width\":2,\"x\":{\"field\":\"price\"},\"y\":{\"field\":\"Count\"}},\"id\":\"10087\",\"type\":\"Line\"},{\"attributes\":{\"callback\":{\"id\":\"10253\",\"type\":\"CustomJS\"},\"factors\":[\"Arabian\",\"Polish\",\"Russian\",\"Ukrainian\",\"French\",\"German\",\"Italian\"]},\"id\":\"10251\",\"type\":\"FactorRange\"},{\"attributes\":{\"overlay\":{\"id\":\"10225\",\"type\":\"BoxAnnotation\"}},\"id\":\"10075\",\"type\":\"BoxZoomTool\"},{\"attributes\":{},\"id\":\"10117\",\"type\":\"PanTool\"},{\"attributes\":{},\"id\":\"10118\",\"type\":\"WheelZoomTool\"},{\"attributes\":{},\"id\":\"10200\",\"type\":\"UnionRenderers\"},{\"attributes\":{\"overlay\":{\"id\":\"10234\",\"type\":\"BoxAnnotation\"}},\"id\":\"10119\",\"type\":\"BoxZoomTool\"},{\"attributes\":{\"line_alpha\":0.2,\"line_color\":\"#1f77b4\",\"line_width\":2,\"x\":{\"field\":\"price\"},\"y\":{\"field\":\"Count\"}},\"id\":\"10089\",\"type\":\"Line\"},{\"attributes\":{},\"id\":\"10180\",\"type\":\"CategoricalTickFormatter\"},{\"attributes\":{\"active_drag\":\"auto\",\"active_inspect\":\"auto\",\"active_multi\":null,\"active_scroll\":\"auto\",\"active_tap\":\"auto\",\"tools\":[{\"id\":\"10053\",\"type\":\"HoverTool\"},{\"id\":\"10072\",\"type\":\"SaveTool\"},{\"id\":\"10073\",\"type\":\"PanTool\"},{\"id\":\"10074\",\"type\":\"WheelZoomTool\"},{\"id\":\"10075\",\"type\":\"BoxZoomTool\"},{\"id\":\"10076\",\"type\":\"ResetTool\"}]},\"id\":\"10077\",\"type\":\"Toolbar\"},{\"attributes\":{},\"id\":\"10092\",\"type\":\"CategoricalTickFormatter\"},{\"attributes\":{},\"id\":\"10064\",\"type\":\"CategoricalTicker\"},{\"attributes\":{\"line_alpha\":0.1,\"line_color\":\"#1f77b4\",\"line_width\":2,\"x\":{\"field\":\"price\"},\"y\":{\"field\":\"Count\"}},\"id\":\"10088\",\"type\":\"Line\"},{\"attributes\":{},\"id\":\"10095\",\"type\":\"BasicTickFormatter\"},{\"attributes\":{\"children\":[{\"id\":\"10249\",\"type\":\"ToolbarBox\"},{\"id\":\"10247\",\"type\":\"GridBox\"}]},\"id\":\"10250\",\"type\":\"Column\"},{\"attributes\":{\"dimension\":1,\"grid_line_color\":{\"value\":null},\"ticker\":{\"id\":\"10068\",\"type\":\"BasicTicker\"}},\"id\":\"10071\",\"type\":\"Grid\"},{\"attributes\":{},\"id\":\"9919\",\"type\":\"BasicTickFormatter\"},{\"attributes\":{\"callback\":null,\"data\":{\"Count\":[2,13,2,1],\"price\":[\"$\",\"$$\",\"$$$\",\"$$$$\"]},\"selected\":{\"id\":\"9997\",\"type\":\"Selection\"},\"selection_policy\":{\"id\":\"10209\",\"type\":\"UnionRenderers\"}},\"id\":\"9996\",\"type\":\"ColumnDataSource\"},{\"attributes\":{},\"id\":\"10191\",\"type\":\"UnionRenderers\"},{\"attributes\":{\"toolbar\":{\"id\":\"10248\",\"type\":\"ProxyToolbar\"},\"toolbar_location\":\"above\"},\"id\":\"10249\",\"type\":\"ToolbarBox\"},{\"attributes\":{\"below\":[{\"id\":\"9975\",\"type\":\"CategoricalAxis\"}],\"center\":[{\"id\":\"9978\",\"type\":\"Grid\"},{\"id\":\"9983\",\"type\":\"Grid\"}],\"frame_height\":120,\"frame_width\":120,\"left\":[{\"id\":\"9979\",\"type\":\"LinearAxis\"}],\"margin\":null,\"min_border_bottom\":3,\"min_border_left\":3,\"min_border_right\":3,\"min_border_top\":3,\"plot_height\":null,\"plot_width\":null,\"renderers\":[{\"id\":\"10002\",\"type\":\"GlyphRenderer\"}],\"sizing_mode\":\"fixed\",\"title\":{\"id\":\"9967\",\"type\":\"Title\"},\"toolbar\":{\"id\":\"9989\",\"type\":\"Toolbar\"},\"toolbar_location\":null,\"x_range\":{\"id\":\"9964\",\"type\":\"FactorRange\"},\"x_scale\":{\"id\":\"9971\",\"type\":\"CategoricalScale\"},\"y_range\":{\"id\":\"9876\",\"type\":\"Range1d\"},\"y_scale\":{\"id\":\"9973\",\"type\":\"LinearScale\"}},\"id\":\"9966\",\"subtype\":\"Figure\",\"type\":\"Plot\"},{\"attributes\":{},\"id\":\"10061\",\"type\":\"LinearScale\"},{\"attributes\":{\"axis_label\":\"Count\",\"bounds\":\"auto\",\"formatter\":{\"id\":\"10095\",\"type\":\"BasicTickFormatter\"},\"major_label_orientation\":\"horizontal\",\"ticker\":{\"id\":\"10068\",\"type\":\"BasicTicker\"},\"visible\":false},\"id\":\"10067\",\"type\":\"LinearAxis\"},{\"attributes\":{},\"id\":\"10007\",\"type\":\"BasicTickFormatter\"},{\"attributes\":{\"text\":\"\",\"text_color\":{\"value\":\"black\"},\"text_font_size\":{\"value\":\"12pt\"}},\"id\":\"9967\",\"type\":\"Title\"},{\"attributes\":{\"bottom_units\":\"screen\",\"fill_alpha\":{\"value\":0.5},\"fill_color\":{\"value\":\"lightgrey\"},\"left_units\":\"screen\",\"level\":\"overlay\",\"line_alpha\":{\"value\":1.0},\"line_color\":{\"value\":\"black\"},\"line_dash\":[4,4],\"line_width\":{\"value\":2},\"render_mode\":\"css\",\"right_units\":\"screen\",\"top_units\":\"screen\"},\"id\":\"10207\",\"type\":\"BoxAnnotation\"},{\"attributes\":{},\"id\":\"9885\",\"type\":\"LinearScale\"},{\"attributes\":{},\"id\":\"9971\",\"type\":\"CategoricalScale\"},{\"attributes\":{},\"id\":\"10183\",\"type\":\"BasicTickFormatter\"},{\"attributes\":{},\"id\":\"10209\",\"type\":\"UnionRenderers\"},{\"attributes\":{},\"id\":\"9973\",\"type\":\"LinearScale\"},{\"attributes\":{\"source\":{\"id\":\"10084\",\"type\":\"ColumnDataSource\"}},\"id\":\"10091\",\"type\":\"CDSView\"},{\"attributes\":{\"below\":[{\"id\":\"9887\",\"type\":\"CategoricalAxis\"}],\"center\":[{\"id\":\"9890\",\"type\":\"Grid\"},{\"id\":\"9895\",\"type\":\"Grid\"}],\"frame_height\":120,\"frame_width\":120,\"left\":[{\"id\":\"9891\",\"type\":\"LinearAxis\"}],\"margin\":null,\"min_border_bottom\":3,\"min_border_left\":3,\"min_border_right\":3,\"min_border_top\":3,\"plot_height\":null,\"plot_width\":null,\"renderers\":[{\"id\":\"9914\",\"type\":\"GlyphRenderer\"}],\"sizing_mode\":\"fixed\",\"title\":{\"id\":\"9879\",\"type\":\"Title\"},\"toolbar\":{\"id\":\"9901\",\"type\":\"Toolbar\"},\"toolbar_location\":null,\"x_range\":{\"id\":\"9875\",\"type\":\"FactorRange\"},\"x_scale\":{\"id\":\"9883\",\"type\":\"CategoricalScale\"},\"y_range\":{\"id\":\"9876\",\"type\":\"Range1d\"},\"y_scale\":{\"id\":\"9885\",\"type\":\"LinearScale\"}},\"id\":\"9878\",\"subtype\":\"Figure\",\"type\":\"Plot\"},{\"attributes\":{\"data_source\":{\"id\":\"10084\",\"type\":\"ColumnDataSource\"},\"glyph\":{\"id\":\"10087\",\"type\":\"Line\"},\"hover_glyph\":null,\"muted_glyph\":{\"id\":\"10089\",\"type\":\"Line\"},\"nonselection_glyph\":{\"id\":\"10088\",\"type\":\"Line\"},\"selection_glyph\":null,\"view\":{\"id\":\"10091\",\"type\":\"CDSView\"}},\"id\":\"10090\",\"type\":\"GlyphRenderer\"},{\"attributes\":{\"callback\":null,\"data\":{\"Count\":[18,2],\"price\":[\"$$\",\"$$$\"]},\"selected\":{\"id\":\"10173\",\"type\":\"Selection\"},\"selection_policy\":{\"id\":\"10245\",\"type\":\"UnionRenderers\"}},\"id\":\"10172\",\"type\":\"ColumnDataSource\"},{\"attributes\":{\"below\":[{\"id\":\"10151\",\"type\":\"CategoricalAxis\"}],\"center\":[{\"id\":\"10154\",\"type\":\"Grid\"},{\"id\":\"10159\",\"type\":\"Grid\"}],\"frame_height\":120,\"frame_width\":120,\"left\":[{\"id\":\"10155\",\"type\":\"LinearAxis\"}],\"margin\":null,\"min_border_bottom\":3,\"min_border_left\":3,\"min_border_right\":3,\"min_border_top\":3,\"plot_height\":null,\"plot_width\":null,\"renderers\":[{\"id\":\"10178\",\"type\":\"GlyphRenderer\"}],\"sizing_mode\":\"fixed\",\"title\":{\"id\":\"10143\",\"type\":\"Title\"},\"toolbar\":{\"id\":\"10165\",\"type\":\"Toolbar\"},\"toolbar_location\":null,\"x_range\":{\"id\":\"10140\",\"type\":\"FactorRange\"},\"x_scale\":{\"id\":\"10147\",\"type\":\"CategoricalScale\"},\"y_range\":{\"id\":\"9876\",\"type\":\"Range1d\"},\"y_scale\":{\"id\":\"10149\",\"type\":\"LinearScale\"}},\"id\":\"10142\",\"subtype\":\"Figure\",\"type\":\"Plot\"},{\"attributes\":{\"axis_label\":\"price\",\"bounds\":\"auto\",\"formatter\":{\"id\":\"10004\",\"type\":\"CategoricalTickFormatter\"},\"major_label_orientation\":1.5707963267948966,\"ticker\":{\"id\":\"9976\",\"type\":\"CategoricalTicker\"}},\"id\":\"9975\",\"type\":\"CategoricalAxis\"},{\"attributes\":{},\"id\":\"9953\",\"type\":\"Selection\"},{\"attributes\":{},\"id\":\"9976\",\"type\":\"CategoricalTicker\"},{\"attributes\":{\"line_color\":\"#1f77b4\",\"line_width\":2,\"x\":{\"field\":\"price\"},\"y\":{\"field\":\"Count\"}},\"id\":\"10131\",\"type\":\"Line\"},{\"attributes\":{\"text\":\"\",\"text_color\":{\"value\":\"black\"},\"text_font_size\":{\"value\":\"12pt\"}},\"id\":\"10143\",\"type\":\"Title\"},{\"attributes\":{\"callback\":null,\"data\":{\"Count\":[18,1],\"price\":[\"$$\",\"$$$\"]},\"selected\":{\"id\":\"10129\",\"type\":\"Selection\"},\"selection_policy\":{\"id\":\"10236\",\"type\":\"UnionRenderers\"}},\"id\":\"10128\",\"type\":\"ColumnDataSource\"},{\"attributes\":{\"grid_line_color\":{\"value\":null},\"ticker\":{\"id\":\"9976\",\"type\":\"CategoricalTicker\"}},\"id\":\"9978\",\"type\":\"Grid\"},{\"attributes\":{\"line_alpha\":0.1,\"line_color\":\"#1f77b4\",\"line_width\":2,\"x\":{\"field\":\"price\"},\"y\":{\"field\":\"Count\"}},\"id\":\"10132\",\"type\":\"Line\"},{\"attributes\":{},\"id\":\"10147\",\"type\":\"CategoricalScale\"},{\"attributes\":{\"axis_label\":\"Count\",\"bounds\":\"auto\",\"formatter\":{\"id\":\"10007\",\"type\":\"BasicTickFormatter\"},\"major_label_orientation\":\"horizontal\",\"ticker\":{\"id\":\"9980\",\"type\":\"BasicTicker\"},\"visible\":false},\"id\":\"9979\",\"type\":\"LinearAxis\"},{\"attributes\":{\"callback\":null,\"data\":{\"Count\":[1,5],\"price\":[\"$\",\"$$\"]},\"selected\":{\"id\":\"9909\",\"type\":\"Selection\"},\"selection_policy\":{\"id\":\"10191\",\"type\":\"UnionRenderers\"}},\"id\":\"9908\",\"type\":\"ColumnDataSource\"},{\"attributes\":{},\"id\":\"10149\",\"type\":\"LinearScale\"},{\"attributes\":{\"active_drag\":\"auto\",\"active_inspect\":\"auto\",\"active_multi\":null,\"active_scroll\":\"auto\",\"active_tap\":\"auto\",\"tools\":[{\"id\":\"10097\",\"type\":\"HoverTool\"},{\"id\":\"10116\",\"type\":\"SaveTool\"},{\"id\":\"10117\",\"type\":\"PanTool\"},{\"id\":\"10118\",\"type\":\"WheelZoomTool\"},{\"id\":\"10119\",\"type\":\"BoxZoomTool\"},{\"id\":\"10120\",\"type\":\"ResetTool\"}]},\"id\":\"10121\",\"type\":\"Toolbar\"},{\"attributes\":{},\"id\":\"9980\",\"type\":\"BasicTicker\"},{\"attributes\":{\"axis_label\":\"price\",\"bounds\":\"auto\",\"formatter\":{\"id\":\"10180\",\"type\":\"CategoricalTickFormatter\"},\"major_label_orientation\":1.5707963267948966,\"ticker\":{\"id\":\"10152\",\"type\":\"CategoricalTicker\"}},\"id\":\"10151\",\"type\":\"CategoricalAxis\"},{\"attributes\":{\"dimension\":1,\"grid_line_color\":{\"value\":null},\"ticker\":{\"id\":\"9980\",\"type\":\"BasicTicker\"}},\"id\":\"9983\",\"type\":\"Grid\"},{\"attributes\":{},\"id\":\"10129\",\"type\":\"Selection\"},{\"attributes\":{},\"id\":\"10152\",\"type\":\"CategoricalTicker\"},{\"attributes\":{\"children\":[[{\"id\":\"9878\",\"subtype\":\"Figure\",\"type\":\"Plot\"},0,0],[{\"id\":\"9922\",\"subtype\":\"Figure\",\"type\":\"Plot\"},0,1],[{\"id\":\"9966\",\"subtype\":\"Figure\",\"type\":\"Plot\"},0,2],[{\"id\":\"10010\",\"subtype\":\"Figure\",\"type\":\"Plot\"},0,3],[{\"id\":\"10054\",\"subtype\":\"Figure\",\"type\":\"Plot\"},0,4],[{\"id\":\"10098\",\"subtype\":\"Figure\",\"type\":\"Plot\"},0,5],[{\"id\":\"10142\",\"subtype\":\"Figure\",\"type\":\"Plot\"},0,6]]},\"id\":\"10247\",\"type\":\"GridBox\"},{\"attributes\":{\"callback\":null,\"renderers\":[{\"id\":\"10134\",\"type\":\"GlyphRenderer\"}],\"tooltips\":[[\"price\",\"@{price}\"],[\"Count\",\"@{Count}\"]]},\"id\":\"10097\",\"type\":\"HoverTool\"},{\"attributes\":{\"grid_line_color\":{\"value\":null},\"ticker\":{\"id\":\"10152\",\"type\":\"CategoricalTicker\"}},\"id\":\"10154\",\"type\":\"Grid\"},{\"attributes\":{},\"id\":\"9909\",\"type\":\"Selection\"},{\"attributes\":{\"callback\":null,\"factors\":[\"$$\",\"$$$\"],\"tags\":[[[\"price\",\"price\",null]]]},\"id\":\"10096\",\"type\":\"FactorRange\"},{\"attributes\":{},\"id\":\"9997\",\"type\":\"Selection\"},{\"attributes\":{\"dimension\":1,\"grid_line_color\":{\"value\":null},\"ticker\":{\"id\":\"9892\",\"type\":\"BasicTicker\"}},\"id\":\"9895\",\"type\":\"Grid\"},{\"attributes\":{\"axis_label\":\"Count\",\"bounds\":\"auto\",\"formatter\":{\"id\":\"10183\",\"type\":\"BasicTickFormatter\"},\"major_label_orientation\":\"horizontal\",\"ticker\":{\"id\":\"10156\",\"type\":\"BasicTicker\"},\"visible\":false},\"id\":\"10155\",\"type\":\"LinearAxis\"},{\"attributes\":{},\"id\":\"9984\",\"type\":\"SaveTool\"},{\"attributes\":{\"source\":{\"id\":\"9908\",\"type\":\"ColumnDataSource\"}},\"id\":\"9915\",\"type\":\"CDSView\"},{\"attributes\":{},\"id\":\"9985\",\"type\":\"PanTool\"},{\"attributes\":{},\"id\":\"9927\",\"type\":\"CategoricalScale\"},{\"attributes\":{\"axis_label\":\"Count\",\"bounds\":\"auto\",\"formatter\":{\"id\":\"9963\",\"type\":\"BasicTickFormatter\"},\"major_label_orientation\":\"horizontal\",\"ticker\":{\"id\":\"9936\",\"type\":\"BasicTicker\"},\"visible\":false},\"id\":\"9935\",\"type\":\"LinearAxis\"},{\"attributes\":{},\"id\":\"9986\",\"type\":\"WheelZoomTool\"},{\"attributes\":{\"overlay\":{\"id\":\"10207\",\"type\":\"BoxAnnotation\"}},\"id\":\"9987\",\"type\":\"BoxZoomTool\"},{\"attributes\":{},\"id\":\"9988\",\"type\":\"ResetTool\"},{\"attributes\":{\"bottom_units\":\"screen\",\"fill_alpha\":{\"value\":0.5},\"fill_color\":{\"value\":\"lightgrey\"},\"left_units\":\"screen\",\"level\":\"overlay\",\"line_alpha\":{\"value\":1.0},\"line_color\":{\"value\":\"black\"},\"line_dash\":[4,4],\"line_width\":{\"value\":2},\"render_mode\":\"css\",\"right_units\":\"screen\",\"top_units\":\"screen\"},\"id\":\"10216\",\"type\":\"BoxAnnotation\"},{\"attributes\":{\"above\":[{\"id\":\"10261\",\"type\":\"CategoricalAxis\"}],\"below\":[],\"center\":[{\"id\":\"10264\",\"type\":\"Grid\"},{\"id\":\"10269\",\"type\":\"Grid\"}],\"left\":[{\"id\":\"10265\",\"type\":\"LinearAxis\"}],\"outline_line_alpha\":{\"value\":0},\"plot_height\":53,\"plot_width\":882,\"title\":{\"id\":\"10272\",\"type\":\"Title\"},\"toolbar\":{\"id\":\"10270\",\"type\":\"Toolbar\"},\"toolbar_location\":null,\"x_range\":{\"id\":\"10251\",\"type\":\"FactorRange\"},\"x_scale\":{\"id\":\"10257\",\"type\":\"CategoricalScale\"},\"y_range\":{\"id\":\"10252\",\"type\":\"Range1d\"},\"y_scale\":{\"id\":\"10259\",\"type\":\"LinearScale\"}},\"id\":\"10254\",\"subtype\":\"Figure\",\"type\":\"Plot\"},{\"attributes\":{\"text\":\"\",\"text_color\":{\"value\":\"black\"},\"text_font_size\":{\"value\":\"12pt\"}},\"id\":\"10011\",\"type\":\"Title\"},{\"attributes\":{\"active_drag\":\"auto\",\"active_inspect\":\"auto\",\"active_multi\":null,\"active_scroll\":\"auto\",\"active_tap\":\"auto\",\"tools\":[{\"id\":\"9965\",\"type\":\"HoverTool\"},{\"id\":\"9984\",\"type\":\"SaveTool\"},{\"id\":\"9985\",\"type\":\"PanTool\"},{\"id\":\"9986\",\"type\":\"WheelZoomTool\"},{\"id\":\"9987\",\"type\":\"BoxZoomTool\"},{\"id\":\"9988\",\"type\":\"ResetTool\"}]},\"id\":\"9989\",\"type\":\"Toolbar\"},{\"attributes\":{},\"id\":\"9963\",\"type\":\"BasicTickFormatter\"},{\"attributes\":{\"line_color\":\"#1f77b4\",\"line_width\":2,\"x\":{\"field\":\"price\"},\"y\":{\"field\":\"Count\"}},\"id\":\"9999\",\"type\":\"Line\"},{\"attributes\":{\"overlay\":{\"id\":\"10189\",\"type\":\"BoxAnnotation\"}},\"id\":\"9899\",\"type\":\"BoxZoomTool\"},{\"attributes\":{\"line_alpha\":0.1,\"line_color\":\"#1f77b4\",\"line_width\":2,\"x\":{\"field\":\"price\"},\"y\":{\"field\":\"Count\"}},\"id\":\"10000\",\"type\":\"Line\"},{\"attributes\":{\"callback\":null},\"id\":\"10252\",\"type\":\"Range1d\"},{\"attributes\":{\"below\":[{\"id\":\"9931\",\"type\":\"CategoricalAxis\"}],\"center\":[{\"id\":\"9934\",\"type\":\"Grid\"},{\"id\":\"9939\",\"type\":\"Grid\"}],\"frame_height\":120,\"frame_width\":120,\"left\":[{\"id\":\"9935\",\"type\":\"LinearAxis\"}],\"margin\":null,\"min_border_bottom\":3,\"min_border_left\":3,\"min_border_right\":3,\"min_border_top\":3,\"plot_height\":null,\"plot_width\":null,\"renderers\":[{\"id\":\"9958\",\"type\":\"GlyphRenderer\"}],\"sizing_mode\":\"fixed\",\"title\":{\"id\":\"9923\",\"type\":\"Title\"},\"toolbar\":{\"id\":\"9945\",\"type\":\"Toolbar\"},\"toolbar_location\":null,\"x_range\":{\"id\":\"9920\",\"type\":\"FactorRange\"},\"x_scale\":{\"id\":\"9927\",\"type\":\"CategoricalScale\"},\"y_range\":{\"id\":\"9876\",\"type\":\"Range1d\"},\"y_scale\":{\"id\":\"9929\",\"type\":\"LinearScale\"}},\"id\":\"9922\",\"subtype\":\"Figure\",\"type\":\"Plot\"},{\"attributes\":{\"line_alpha\":0.2,\"line_color\":\"#1f77b4\",\"line_width\":2,\"x\":{\"field\":\"price\"},\"y\":{\"field\":\"Count\"}},\"id\":\"10001\",\"type\":\"Line\"},{\"attributes\":{},\"id\":\"10218\",\"type\":\"UnionRenderers\"},{\"attributes\":{},\"id\":\"10072\",\"type\":\"SaveTool\"},{\"attributes\":{\"data_source\":{\"id\":\"9996\",\"type\":\"ColumnDataSource\"},\"glyph\":{\"id\":\"9999\",\"type\":\"Line\"},\"hover_glyph\":null,\"muted_glyph\":{\"id\":\"10001\",\"type\":\"Line\"},\"nonselection_glyph\":{\"id\":\"10000\",\"type\":\"Line\"},\"selection_glyph\":null,\"view\":{\"id\":\"10003\",\"type\":\"CDSView\"}},\"id\":\"10002\",\"type\":\"GlyphRenderer\"},{\"attributes\":{\"source\":{\"id\":\"9996\",\"type\":\"ColumnDataSource\"}},\"id\":\"10003\",\"type\":\"CDSView\"},{\"attributes\":{\"axis_label\":\"price\",\"bounds\":\"auto\",\"formatter\":{\"id\":\"9960\",\"type\":\"CategoricalTickFormatter\"},\"major_label_orientation\":1.5707963267948966,\"ticker\":{\"id\":\"9932\",\"type\":\"CategoricalTicker\"}},\"id\":\"9931\",\"type\":\"CategoricalAxis\"},{\"attributes\":{},\"id\":\"10227\",\"type\":\"UnionRenderers\"},{\"attributes\":{\"grid_line_color\":{\"value\":null},\"ticker\":{\"id\":\"10020\",\"type\":\"CategoricalTicker\"}},\"id\":\"10022\",\"type\":\"Grid\"},{\"attributes\":{\"grid_line_alpha\":{\"value\":0},\"ticker\":{\"id\":\"10262\",\"type\":\"CategoricalTicker\"}},\"id\":\"10264\",\"type\":\"Grid\"},{\"attributes\":{\"axis_label\":\"Count\",\"bounds\":\"auto\",\"formatter\":{\"id\":\"10051\",\"type\":\"BasicTickFormatter\"},\"major_label_orientation\":\"horizontal\",\"ticker\":{\"id\":\"10024\",\"type\":\"BasicTicker\"},\"visible\":false},\"id\":\"10023\",\"type\":\"LinearAxis\"},{\"attributes\":{\"data_source\":{\"id\":\"9908\",\"type\":\"ColumnDataSource\"},\"glyph\":{\"id\":\"9911\",\"type\":\"Line\"},\"hover_glyph\":null,\"muted_glyph\":{\"id\":\"9913\",\"type\":\"Line\"},\"nonselection_glyph\":{\"id\":\"9912\",\"type\":\"Line\"},\"selection_glyph\":null,\"view\":{\"id\":\"9915\",\"type\":\"CDSView\"}},\"id\":\"9914\",\"type\":\"GlyphRenderer\"},{\"attributes\":{},\"id\":\"10020\",\"type\":\"CategoricalTicker\"},{\"attributes\":{\"line_color\":\"#1f77b4\",\"line_width\":2,\"x\":{\"field\":\"price\"},\"y\":{\"field\":\"Count\"}},\"id\":\"9955\",\"type\":\"Line\"},{\"attributes\":{\"active_drag\":\"auto\",\"active_inspect\":\"auto\",\"active_multi\":null,\"active_scroll\":\"auto\",\"active_tap\":\"auto\",\"tools\":[{\"id\":\"9877\",\"type\":\"HoverTool\"},{\"id\":\"9896\",\"type\":\"SaveTool\"},{\"id\":\"9897\",\"type\":\"PanTool\"},{\"id\":\"9898\",\"type\":\"WheelZoomTool\"},{\"id\":\"9899\",\"type\":\"BoxZoomTool\"},{\"id\":\"9900\",\"type\":\"ResetTool\"}]},\"id\":\"9901\",\"type\":\"Toolbar\"},{\"attributes\":{},\"id\":\"9936\",\"type\":\"BasicTicker\"},{\"attributes\":{},\"id\":\"10074\",\"type\":\"WheelZoomTool\"},{\"attributes\":{},\"id\":\"10017\",\"type\":\"LinearScale\"},{\"attributes\":{\"axis_label\":\"price\",\"bounds\":\"auto\",\"formatter\":{\"id\":\"10048\",\"type\":\"CategoricalTickFormatter\"},\"major_label_orientation\":1.5707963267948966,\"ticker\":{\"id\":\"10020\",\"type\":\"CategoricalTicker\"}},\"id\":\"10019\",\"type\":\"CategoricalAxis\"},{\"attributes\":{\"callback\":null,\"data\":{\"Count\":[2,3],\"price\":[\"$\",\"$$\"]},\"selected\":{\"id\":\"10041\",\"type\":\"Selection\"},\"selection_policy\":{\"id\":\"10218\",\"type\":\"UnionRenderers\"}},\"id\":\"10040\",\"type\":\"ColumnDataSource\"},{\"attributes\":{},\"id\":\"10004\",\"type\":\"CategoricalTickFormatter\"},{\"attributes\":{\"callback\":null,\"factors\":[\"$\",\"$$\",\"$$$$\"],\"tags\":[[[\"price\",\"price\",null]]]},\"id\":\"9920\",\"type\":\"FactorRange\"},{\"attributes\":{},\"id\":\"10073\",\"type\":\"PanTool\"},{\"attributes\":{\"dimension\":1,\"grid_line_alpha\":{\"value\":0},\"ticker\":{\"id\":\"10266\",\"type\":\"BasicTicker\"}},\"id\":\"10269\",\"type\":\"Grid\"},{\"attributes\":{\"formatter\":{\"id\":\"10277\",\"type\":\"BasicTickFormatter\"},\"ticker\":{\"id\":\"10266\",\"type\":\"BasicTicker\"},\"visible\":false},\"id\":\"10265\",\"type\":\"LinearAxis\"},{\"attributes\":{},\"id\":\"10015\",\"type\":\"CategoricalScale\"},{\"attributes\":{},\"id\":\"10259\",\"type\":\"LinearScale\"},{\"attributes\":{},\"id\":\"10024\",\"type\":\"BasicTicker\"},{\"attributes\":{},\"id\":\"10277\",\"type\":\"BasicTickFormatter\"},{\"attributes\":{},\"id\":\"9897\",\"type\":\"PanTool\"},{\"attributes\":{\"dimension\":1,\"grid_line_color\":{\"value\":null},\"ticker\":{\"id\":\"9936\",\"type\":\"BasicTicker\"}},\"id\":\"9939\",\"type\":\"Grid\"},{\"attributes\":{\"dimension\":1,\"grid_line_color\":{\"value\":null},\"ticker\":{\"id\":\"10024\",\"type\":\"BasicTicker\"}},\"id\":\"10027\",\"type\":\"Grid\"},{\"attributes\":{\"line_alpha\":0.2,\"line_color\":\"#1f77b4\",\"line_width\":2,\"x\":{\"field\":\"price\"},\"y\":{\"field\":\"Count\"}},\"id\":\"9913\",\"type\":\"Line\"},{\"attributes\":{},\"id\":\"10041\",\"type\":\"Selection\"},{\"attributes\":{\"active_drag\":\"auto\",\"active_inspect\":\"auto\",\"active_multi\":null,\"active_scroll\":\"auto\",\"active_tap\":\"auto\",\"tools\":[{\"id\":\"10009\",\"type\":\"HoverTool\"},{\"id\":\"10028\",\"type\":\"SaveTool\"},{\"id\":\"10029\",\"type\":\"PanTool\"},{\"id\":\"10030\",\"type\":\"WheelZoomTool\"},{\"id\":\"10031\",\"type\":\"BoxZoomTool\"},{\"id\":\"10032\",\"type\":\"ResetTool\"}]},\"id\":\"10033\",\"type\":\"Toolbar\"},{\"attributes\":{},\"id\":\"9932\",\"type\":\"CategoricalTicker\"},{\"attributes\":{\"axis_label\":\"type\",\"formatter\":{\"id\":\"10275\",\"type\":\"CategoricalTickFormatter\"},\"major_label_orientation\":0.0,\"major_label_text_baseline\":\"middle\",\"ticker\":{\"id\":\"10262\",\"type\":\"CategoricalTicker\"}},\"id\":\"10261\",\"type\":\"CategoricalAxis\"},{\"attributes\":{},\"id\":\"10028\",\"type\":\"SaveTool\"},{\"attributes\":{\"data_source\":{\"id\":\"9952\",\"type\":\"ColumnDataSource\"},\"glyph\":{\"id\":\"9955\",\"type\":\"Line\"},\"hover_glyph\":null,\"muted_glyph\":{\"id\":\"9957\",\"type\":\"Line\"},\"nonselection_glyph\":{\"id\":\"9956\",\"type\":\"Line\"},\"selection_glyph\":null,\"view\":{\"id\":\"9959\",\"type\":\"CDSView\"}},\"id\":\"9958\",\"type\":\"GlyphRenderer\"},{\"attributes\":{},\"id\":\"10266\",\"type\":\"BasicTicker\"},{\"attributes\":{},\"id\":\"10029\",\"type\":\"PanTool\"},{\"attributes\":{},\"id\":\"10030\",\"type\":\"WheelZoomTool\"},{\"attributes\":{},\"id\":\"10262\",\"type\":\"CategoricalTicker\"},{\"attributes\":{},\"id\":\"9896\",\"type\":\"SaveTool\"},{\"attributes\":{\"overlay\":{\"id\":\"10216\",\"type\":\"BoxAnnotation\"}},\"id\":\"10031\",\"type\":\"BoxZoomTool\"},{\"attributes\":{},\"id\":\"10032\",\"type\":\"ResetTool\"},{\"attributes\":{\"line_alpha\":0.1,\"line_color\":\"#1f77b4\",\"line_width\":2,\"x\":{\"field\":\"price\"},\"y\":{\"field\":\"Count\"}},\"id\":\"9912\",\"type\":\"Line\"},{\"attributes\":{\"source\":{\"id\":\"9952\",\"type\":\"ColumnDataSource\"}},\"id\":\"9959\",\"type\":\"CDSView\"},{\"attributes\":{\"text\":\"\",\"text_color\":{\"value\":\"black\"},\"text_font_size\":{\"value\":\"12pt\"}},\"id\":\"9923\",\"type\":\"Title\"},{\"attributes\":{\"line_color\":\"#1f77b4\",\"line_width\":2,\"x\":{\"field\":\"price\"},\"y\":{\"field\":\"Count\"}},\"id\":\"10043\",\"type\":\"Line\"},{\"attributes\":{\"bottom_units\":\"screen\",\"fill_alpha\":{\"value\":0.5},\"fill_color\":{\"value\":\"lightgrey\"},\"left_units\":\"screen\",\"level\":\"overlay\",\"line_alpha\":{\"value\":1.0},\"line_color\":{\"value\":\"black\"},\"line_dash\":[4,4],\"line_width\":{\"value\":2},\"render_mode\":\"css\",\"right_units\":\"screen\",\"top_units\":\"screen\"},\"id\":\"10198\",\"type\":\"BoxAnnotation\"},{\"attributes\":{\"callback\":null,\"renderers\":[{\"id\":\"9958\",\"type\":\"GlyphRenderer\"}],\"tooltips\":[[\"price\",\"@{price}\"],[\"Count\",\"@{Count}\"]]},\"id\":\"9921\",\"type\":\"HoverTool\"},{\"attributes\":{\"active_drag\":\"auto\",\"active_inspect\":\"auto\",\"active_multi\":null,\"active_scroll\":\"auto\",\"active_tap\":\"auto\"},\"id\":\"10270\",\"type\":\"Toolbar\"},{\"attributes\":{\"line_color\":\"#1f77b4\",\"line_width\":2,\"x\":{\"field\":\"price\"},\"y\":{\"field\":\"Count\"}},\"id\":\"9911\",\"type\":\"Line\"},{\"attributes\":{\"line_alpha\":0.1,\"line_color\":\"#1f77b4\",\"line_width\":2,\"x\":{\"field\":\"price\"},\"y\":{\"field\":\"Count\"}},\"id\":\"10044\",\"type\":\"Line\"},{\"attributes\":{},\"id\":\"9900\",\"type\":\"ResetTool\"},{\"attributes\":{},\"id\":\"9929\",\"type\":\"LinearScale\"},{\"attributes\":{\"below\":[{\"id\":\"10019\",\"type\":\"CategoricalAxis\"}],\"center\":[{\"id\":\"10022\",\"type\":\"Grid\"},{\"id\":\"10027\",\"type\":\"Grid\"}],\"frame_height\":120,\"frame_width\":120,\"left\":[{\"id\":\"10023\",\"type\":\"LinearAxis\"}],\"margin\":null,\"min_border_bottom\":3,\"min_border_left\":3,\"min_border_right\":3,\"min_border_top\":3,\"plot_height\":null,\"plot_width\":null,\"renderers\":[{\"id\":\"10046\",\"type\":\"GlyphRenderer\"}],\"sizing_mode\":\"fixed\",\"title\":{\"id\":\"10011\",\"type\":\"Title\"},\"toolbar\":{\"id\":\"10033\",\"type\":\"Toolbar\"},\"toolbar_location\":null,\"x_range\":{\"id\":\"10008\",\"type\":\"FactorRange\"},\"x_scale\":{\"id\":\"10015\",\"type\":\"CategoricalScale\"},\"y_range\":{\"id\":\"9876\",\"type\":\"Range1d\"},\"y_scale\":{\"id\":\"10017\",\"type\":\"LinearScale\"}},\"id\":\"10010\",\"subtype\":\"Figure\",\"type\":\"Plot\"},{\"attributes\":{\"line_alpha\":0.2,\"line_color\":\"#1f77b4\",\"line_width\":2,\"x\":{\"field\":\"price\"},\"y\":{\"field\":\"Count\"}},\"id\":\"10045\",\"type\":\"Line\"},{\"attributes\":{\"grid_line_color\":{\"value\":null},\"ticker\":{\"id\":\"9932\",\"type\":\"CategoricalTicker\"}},\"id\":\"9934\",\"type\":\"Grid\"},{\"attributes\":{\"data_source\":{\"id\":\"10040\",\"type\":\"ColumnDataSource\"},\"glyph\":{\"id\":\"10043\",\"type\":\"Line\"},\"hover_glyph\":null,\"muted_glyph\":{\"id\":\"10045\",\"type\":\"Line\"},\"nonselection_glyph\":{\"id\":\"10044\",\"type\":\"Line\"},\"selection_glyph\":null,\"view\":{\"id\":\"10047\",\"type\":\"CDSView\"}},\"id\":\"10046\",\"type\":\"GlyphRenderer\"},{\"attributes\":{\"bottom_units\":\"screen\",\"fill_alpha\":{\"value\":0.5},\"fill_color\":{\"value\":\"lightgrey\"},\"left_units\":\"screen\",\"level\":\"overlay\",\"line_alpha\":{\"value\":1.0},\"line_color\":{\"value\":\"black\"},\"line_dash\":[4,4],\"line_width\":{\"value\":2},\"render_mode\":\"css\",\"right_units\":\"screen\",\"top_units\":\"screen\"},\"id\":\"10225\",\"type\":\"BoxAnnotation\"},{\"attributes\":{\"source\":{\"id\":\"10040\",\"type\":\"ColumnDataSource\"}},\"id\":\"10047\",\"type\":\"CDSView\"},{\"attributes\":{},\"id\":\"9898\",\"type\":\"WheelZoomTool\"},{\"attributes\":{\"callback\":null,\"renderers\":[{\"id\":\"10090\",\"type\":\"GlyphRenderer\"}],\"tooltips\":[[\"price\",\"@{price}\"],[\"Count\",\"@{Count}\"]]},\"id\":\"10053\",\"type\":\"HoverTool\"},{\"attributes\":{\"callback\":null,\"factors\":[\"$$\",\"$$$\",\"$$$$\"],\"tags\":[[[\"price\",\"price\",null]]]},\"id\":\"10052\",\"type\":\"FactorRange\"}],\"root_ids\":[\"10271\"]},\"title\":\"Bokeh Application\",\"version\":\"1.1.0\"}};\n",
       "  var render_items = [{\"docid\":\"6ea5f124-ce48-44d5-9826-4806930c326e\",\"roots\":{\"10271\":\"a693ac71-2fa5-4fb8-8582-ad60cf15a7d7\"}}];\n",
       "  root.Bokeh.embed.embed_items_notebook(docs_json, render_items);\n",
       "\n",
       "  }\n",
       "  if (root.Bokeh !== undefined) {\n",
       "    embed_document(root);\n",
       "  } else {\n",
       "    var attempts = 0;\n",
       "    var timer = setInterval(function(root) {\n",
       "      if (root.Bokeh !== undefined) {\n",
       "        embed_document(root);\n",
       "        clearInterval(timer);\n",
       "      }\n",
       "      attempts++;\n",
       "      if (attempts > 100) {\n",
       "        console.log(\"Bokeh: ERROR: Unable to run BokehJS code because BokehJS library is missing\");\n",
       "        clearInterval(timer);\n",
       "      }\n",
       "    }, 10, root)\n",
       "  }\n",
       "})(window);"
      ],
      "application/vnd.holoviews_exec.v0+json": "",
      "text/html": [
       "<div id='10271' style='display: table; margin: 0 auto;'>\n",
       "\n",
       "\n",
       "\n",
       "\n",
       "\n",
       "  <div class=\"bk-root\" id=\"a693ac71-2fa5-4fb8-8582-ad60cf15a7d7\" data-root-id=\"10271\"></div>\n",
       "</div>"
      ],
      "text/plain": [
       ":GridSpace   [type]\n",
       "   :Curve   [price]   (Count)"
      ]
     },
     "execution_count": 173,
     "metadata": {
      "application/vnd.holoviews_exec.v0+json": {
       "id": "10271"
      }
     },
     "output_type": "execute_result"
    }
   ],
   "source": [
    "PriceChart"
   ]
  },
  {
   "cell_type": "markdown",
   "metadata": {},
   "source": [
    "#  Neighborhood Plot"
   ]
  },
  {
   "cell_type": "code",
   "execution_count": 175,
   "metadata": {},
   "outputs": [],
   "source": [
    "neighborhood_data['pct_countries'] = neighborhood_data['pct_russian'] + neighborhood_data['pct_ukrainian'] + neighborhood_data['pct_polish'] + neighborhood_data['pct_german'] +  neighborhood_data['pct_italian'] + neighborhood_data['pct_french'] + neighborhood_data['pct_arabian']"
   ]
  },
  {
   "cell_type": "code",
   "execution_count": 176,
   "metadata": {},
   "outputs": [],
   "source": [
    "neighborhood_clean = neighborhood_data[['B01001_001E_sum','pct_countries','boro_name']]"
   ]
  },
  {
   "cell_type": "code",
   "execution_count": 177,
   "metadata": {},
   "outputs": [
    {
     "data": {
      "text/html": [
       "<div>\n",
       "<style scoped>\n",
       "    .dataframe tbody tr th:only-of-type {\n",
       "        vertical-align: middle;\n",
       "    }\n",
       "\n",
       "    .dataframe tbody tr th {\n",
       "        vertical-align: top;\n",
       "    }\n",
       "\n",
       "    .dataframe thead th {\n",
       "        text-align: right;\n",
       "    }\n",
       "</style>\n",
       "<table border=\"1\" class=\"dataframe\">\n",
       "  <thead>\n",
       "    <tr style=\"text-align: right;\">\n",
       "      <th></th>\n",
       "      <th>Total Population</th>\n",
       "      <th>Borough</th>\n",
       "      <th>Percent Population From Selected Countries</th>\n",
       "    </tr>\n",
       "  </thead>\n",
       "  <tbody>\n",
       "    <tr>\n",
       "      <th>0</th>\n",
       "      <td>196146</td>\n",
       "      <td>Brooklyn</td>\n",
       "      <td>0.142236</td>\n",
       "    </tr>\n",
       "    <tr>\n",
       "      <th>1</th>\n",
       "      <td>120532</td>\n",
       "      <td>Queens</td>\n",
       "      <td>0.136470</td>\n",
       "    </tr>\n",
       "    <tr>\n",
       "      <th>2</th>\n",
       "      <td>65546</td>\n",
       "      <td>Queens</td>\n",
       "      <td>0.019605</td>\n",
       "    </tr>\n",
       "    <tr>\n",
       "      <th>3</th>\n",
       "      <td>57052</td>\n",
       "      <td>Queens</td>\n",
       "      <td>0.027922</td>\n",
       "    </tr>\n",
       "    <tr>\n",
       "      <th>4</th>\n",
       "      <td>61926</td>\n",
       "      <td>Manhattan</td>\n",
       "      <td>0.092481</td>\n",
       "    </tr>\n",
       "  </tbody>\n",
       "</table>\n",
       "</div>"
      ],
      "text/plain": [
       "   Total Population    Borough  Percent Population From Selected Countries\n",
       "0            196146   Brooklyn                                    0.142236\n",
       "1            120532     Queens                                    0.136470\n",
       "2             65546     Queens                                    0.019605\n",
       "3             57052     Queens                                    0.027922\n",
       "4             61926  Manhattan                                    0.092481"
      ]
     },
     "execution_count": 177,
     "metadata": {},
     "output_type": "execute_result"
    }
   ],
   "source": [
    "neighborhood_rename = pd.DataFrame()\n",
    "neighborhood_rename['Total Population'] = neighborhood_clean['B01001_001E_sum']\n",
    "neighborhood_rename['Borough'] = neighborhood_clean['boro_name']\n",
    "neighborhood_rename['Percent Population From Selected Countries'] = neighborhood_clean['pct_countries']\n",
    "neighborhood_rename.head()"
   ]
  },
  {
   "cell_type": "code",
   "execution_count": 178,
   "metadata": {},
   "outputs": [],
   "source": [
    "brush = alt.selection(type='interval')\n",
    "\n",
    "\n",
    "points = alt.Chart().mark_point().encode(\n",
    "    x='Total Population:Q',\n",
    "    y='Percent Population From Selected Countries:Q',\n",
    "    color=alt.condition(brush, 'Borough:N', alt.value('lightgray'))\n",
    ").properties(\n",
    "    selection=brush,\n",
    "    width=800\n",
    ")\n",
    "\n",
    "\n",
    "bars = alt.Chart().mark_bar().encode(\n",
    "    y='Borough:N',\n",
    "    color='Borough:N',\n",
    "    x='count(Borough):Q'\n",
    ").transform_filter(\n",
    "    brush.ref() \n",
    "                \n",
    ").properties(\n",
    "width=800\n",
    ")\n",
    "\n",
    "chart = alt.vconcat(points, bars, data=neighborhood_rename) \n"
   ]
  },
  {
   "cell_type": "code",
   "execution_count": 179,
   "metadata": {},
   "outputs": [],
   "source": [
    "chart.save(\"neighborhood_chart.html\")"
   ]
  },
  {
   "cell_type": "code",
   "execution_count": null,
   "metadata": {},
   "outputs": [],
   "source": []
  }
 ],
 "metadata": {
  "kernelspec": {
   "display_name": "Python 3",
   "language": "python",
   "name": "python3"
  },
  "language_info": {
   "codemirror_mode": {
    "name": "ipython",
    "version": 3
   },
   "file_extension": ".py",
   "mimetype": "text/x-python",
   "name": "python",
   "nbconvert_exporter": "python",
   "pygments_lexer": "ipython3",
   "version": "3.6.7"
  }
 },
 "nbformat": 4,
 "nbformat_minor": 2
}
